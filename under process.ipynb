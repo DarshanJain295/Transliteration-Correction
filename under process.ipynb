{
 "cells": [
  {
   "cell_type": "code",
   "execution_count": 1,
   "metadata": {},
   "outputs": [],
   "source": [
    "from getLanguage import langIdentify"
   ]
  },
  {
   "cell_type": "code",
   "execution_count": 2,
   "metadata": {},
   "outputs": [],
   "source": [
    "inputText = \"\"\"Om! Having bowed down to Narayana and Nara, the most exalted male being,\n",
    "and also to the goddess Saraswati, must the word Jaya be uttered. Ugrasrava, the son of Lomaharshana, surnamed Sauti, well-versed in the\n",
    "Puranas, bending with humility, one day approached the great sages of\n",
    "rigid vows, sitting at their ease, who had attended the twelve years\n",
    "sacrifice of Saunaka, surnamed Kulapati, in the forest of Naimisha. Those\n",
    "ascetics, wishing to hear his wonderful narrations, presently began to\n",
    "address him who had thus arrived at that recluse abode of the inhabitants\n",
    "of the forest of Naimisha. Having been entertained with due respect by\n",
    "those holy men, he saluted those Munis (sages) with joined palms, even\n",
    "all of them, and inquired about the progress of their asceticism. Then\n",
    "all the ascetics being again seated, the son of Lomaharshana humbly\n",
    "occupied the seat that was assigned to him. Seeing that he was\n",
    "comfortably seated, and recovered from fatigue, one of the Rishis\n",
    "beginning the conversation, asked him, Whence comest thou, O lotus-eyed\n",
    "Sauti, and where hast thou spent the time? Tell me, who ask thee, in\n",
    "detail. Accomplished in speech, Sauti, thus questioned, gave in the midst of that\n",
    "big assemblage of contemplative Munis a full and proper answer in words\n",
    "consonant with their mode of life.\"\"\""
   ]
  },
  {
   "cell_type": "code",
   "execution_count": 3,
   "metadata": {},
   "outputs": [],
   "source": [
    "inputText =  inputText.replace(\"-\", \" \")  # Remove hyphens\n",
    "input = ''.join(char for char in inputText if char.isalnum() or char.isspace())"
   ]
  },
  {
   "cell_type": "code",
   "execution_count": 4,
   "metadata": {},
   "outputs": [],
   "source": [
    "input = input.split()\n"
   ]
  },
  {
   "cell_type": "code",
   "execution_count": 5,
   "metadata": {},
   "outputs": [
    {
     "name": "stderr",
     "output_type": "stream",
     "text": [
      "[nltk_data] Downloading package words to\n",
      "[nltk_data]     C:\\Users\\Darshan\\AppData\\Roaming\\nltk_data...\n",
      "[nltk_data]   Package words is already up-to-date!\n"
     ]
    }
   ],
   "source": [
    "import nltk\n",
    "nltk.download('words')  # Download dictionary\n",
    "\n",
    "def is_english_word(word):\n",
    "  words = set(nltk.corpus.words.words())\n",
    "  return word.lower() in words\n",
    "\n",
    "primary_cleaned=[]\n",
    "for word in input:\n",
    "    if is_english_word(word):\n",
    "        pass\n",
    "    else:\n",
    "        primary_cleaned.append(word)"
   ]
  },
  {
   "cell_type": "code",
   "execution_count": 6,
   "metadata": {},
   "outputs": [],
   "source": [
    "lastfile = \" \".join(primary_cleaned)"
   ]
  },
  {
   "cell_type": "code",
   "execution_count": 7,
   "metadata": {},
   "outputs": [
    {
     "name": "stdout",
     "output_type": "stream",
     "text": [
      "HINDI dictionary created\n",
      "ENGLISH dictionary created\n",
      "Having\ten\t0.999999999\thi\t1e-09\n",
      "Narayana\ten\t4.171200170899079E-4\thi\t0.9995828799829101\n",
      "Nara\ten\t0.29644713167316156\thi\t0.7035528683268384\n",
      "Saraswati\thi\t0.999999999\ten\t1e-09\n",
      "Jaya\thi\t0.999999999\ten\t1e-09\n",
      "uttered\ten\t0.999999999\thi\t1e-09\n",
      "Ugrasrava\ten\t1.365005255145751E-4\thi\t0.9998634994744855\n",
      "Lomaharshana\ten\t3.029020611843685E-5\thi\t0.9999697097938817\n",
      "surnamed\ten\t0.9899179977100075\thi\t0.010082002289992488\n",
      "Sauti\ten\t0.01919128151980597\thi\t0.9808087184801939\n",
      "Puranas\ten\t0.2107304641079788\thi\t0.7892695358920213\n",
      "approached\ten\t0.999999999\thi\t1e-09\n",
      "sages\ten\t0.999999999\thi\t1e-09\n",
      "vows\ten\t0.999999999\thi\t1e-09\n",
      "attended\ten\t0.999999999\thi\t1e-09\n",
      "years\ten\t0.999999999\thi\t1e-09\n",
      "Saunaka\ten\t6.865236128901607E-4\thi\t0.9993134763871098\n",
      "surnamed\ten\t0.9899179977100075\thi\t0.010082002289992488\n",
      "Kulapati\ten\t6.385160343516354E-5\thi\t0.9999361483965648\n",
      "Naimisha\ten\t0.8113472058682292\thi\t0.18865279413177083\n",
      "ascetics\ten\t0.9998015801896233\thi\t1.9841981037660515E-4\n",
      "narrations\ten\t0.11311661998279636\thi\t0.8868833800172036\n",
      "began\ten\t0.999999999\thi\t1e-09\n",
      "arrived\ten\t0.999999999\thi\t1e-09\n",
      "inhabitants\ten\t0.999999999\thi\t1e-09\n",
      "Naimisha\ten\t0.8113472058682292\thi\t0.18865279413177083\n",
      "Having\ten\t0.999999999\thi\t1e-09\n",
      "entertained\ten\t0.999999999\thi\t1e-09\n",
      "saluted\ten\t0.999999999\thi\t1e-09\n",
      "Munis\ten\t0.9349789524794219\thi\t0.06502104752057813\n",
      "sages\ten\t0.999999999\thi\t1e-09\n",
      "joined\ten\t0.999999999\thi\t1e-09\n",
      "palms\ten\t0.999999999\thi\t1e-09\n",
      "inquired\ten\t0.999999999\thi\t1e-09\n",
      "ascetics\ten\t0.9998015801896233\thi\t1.9841981037660515E-4\n",
      "Lomaharshana\ten\t3.029020611843685E-5\thi\t0.9999697097938817\n",
      "occupied\ten\t0.999999999\thi\t1e-09\n",
      "recovered\ten\t0.999999999\thi\t1e-09\n",
      "Rishis\ten\t0.88547145898081\thi\t0.11452854101919004\n",
      "asked\ten\t0.999999999\thi\t1e-09\n",
      "comest\ten\t0.9998773503210701\thi\t1.2264967892999486E-4\n",
      "Sauti\ten\t0.01919128151980597\thi\t0.9808087184801939\n",
      "hast\ten\t0.999999999\thi\t1e-09\n",
      "Sauti\ten\t0.01919128151980597\thi\t0.9808087184801939\n",
      "questioned\ten\t0.999999999\thi\t1e-09\n",
      "Munis\ten\t0.9349789524794219\thi\t0.06502104752057813\n",
      "words\ten\t0.999999999\thi\t1e-09 \n",
      "---------------------------------\n",
      "\n"
     ]
    },
    {
     "name": "stderr",
     "output_type": "stream",
     "text": [
      "time for mallet classification 0.619163990020752\n"
     ]
    }
   ],
   "source": [
    "classifier =\"classifiers/HiEn.classifier\"\n",
    "tags= langIdentify(lastfile, classifier)"
   ]
  },
  {
   "cell_type": "code",
   "execution_count": 8,
   "metadata": {},
   "outputs": [],
   "source": [
    "flatten_tags= [item for sublist in tags for item in sublist ]"
   ]
  },
  {
   "cell_type": "code",
   "execution_count": 9,
   "metadata": {},
   "outputs": [],
   "source": [
    "Indian_words =  [word for word, lang in flatten_tags if lang == 'HI']"
   ]
  },
  {
   "cell_type": "code",
   "execution_count": 10,
   "metadata": {},
   "outputs": [
    {
     "data": {
      "text/plain": [
       "['Narayana',\n",
       " 'Nara',\n",
       " 'Saraswati',\n",
       " 'Jaya',\n",
       " 'Ugrasrava',\n",
       " 'Lomaharshana',\n",
       " 'Sauti',\n",
       " 'Puranas',\n",
       " 'Saunaka',\n",
       " 'Kulapati',\n",
       " 'narrations',\n",
       " 'Lomaharshana',\n",
       " 'Sauti',\n",
       " 'Sauti']"
      ]
     },
     "execution_count": 10,
     "metadata": {},
     "output_type": "execute_result"
    }
   ],
   "source": [
    "Indian_words"
   ]
  },
  {
   "cell_type": "code",
   "execution_count": 11,
   "metadata": {},
   "outputs": [],
   "source": [
    "from aksharamukha import transliterate\n",
    "from indic_transliteration import sanscript"
   ]
  },
  {
   "cell_type": "code",
   "execution_count": 12,
   "metadata": {},
   "outputs": [
    {
     "name": "stdout",
     "output_type": "stream",
     "text": [
      "Initializing Multilingual model for transliteration\n"
     ]
    },
    {
     "name": "stderr",
     "output_type": "stream",
     "text": [
      "c:\\Users\\Darshan\\AppData\\Local\\Programs\\Python\\Python312\\Lib\\site-packages\\tqdm\\auto.py:21: TqdmWarning: IProgress not found. Please update jupyter and ipywidgets. See https://ipywidgets.readthedocs.io/en/stable/user_install.html\n",
      "  from .autonotebook import tqdm as notebook_tqdm\n",
      "c:\\Users\\Darshan\\AppData\\Local\\Programs\\Python\\Python312\\Lib\\site-packages\\hydra\\experimental\\initialize.py:43: UserWarning: hydra.experimental.initialize() is no longer experimental. Use hydra.initialize()\n",
      "  deprecation_warning(message=message)\n",
      "c:\\Users\\Darshan\\AppData\\Local\\Programs\\Python\\Python312\\Lib\\site-packages\\hydra\\experimental\\initialize.py:45: UserWarning: \n",
      "The version_base parameter is not specified.\n",
      "Please specify a compatability version level, or None.\n",
      "Will assume defaults for version 1.1\n",
      "  self.delegate = real_initialize(\n",
      "c:\\Users\\Darshan\\AppData\\Local\\Programs\\Python\\Python312\\Lib\\site-packages\\hydra\\experimental\\compose.py:25: UserWarning: hydra.experimental.compose() is no longer experimental. Use hydra.compose()\n",
      "  deprecation_warning(message=message)\n",
      "c:\\Users\\Darshan\\AppData\\Local\\Programs\\Python\\Python312\\Lib\\site-packages\\hydra\\core\\default_element.py:124: UserWarning: In 'config': Usage of deprecated keyword in package header '# @package _group_'.\n",
      "See https://hydra.cc/docs/1.2/upgrades/1.0_to_1.1/changes_to_package_header for more information\n",
      "  deprecation_warning(\n",
      "c:\\Users\\Darshan\\AppData\\Local\\Programs\\Python\\Python312\\Lib\\site-packages\\ai4bharat\\transliteration\\transformer\\en2indic.py:78: UserWarning: \n",
      "'config' is validated against ConfigStore schema with the same name.\n",
      "This behavior is deprecated in Hydra 1.1 and will be removed in Hydra 1.2.\n",
      "See https://hydra.cc/docs/1.2/upgrades/1.0_to_1.1/automatic_schema_matching for migration instructions.\n",
      "  super().__init__(models_path, beam_width=beam_width, rescore=rescore)\n",
      "c:\\Users\\Darshan\\AppData\\Local\\Programs\\Python\\Python312\\Lib\\site-packages\\hydra\\compose.py:56: UserWarning: \n",
      "The strict flag in the compose API is deprecated.\n",
      "See https://hydra.cc/docs/1.2/upgrades/0.11_to_1.0/strict_mode_flag_deprecated for more info.\n",
      "\n",
      "  deprecation_warning(\n",
      "Loading dicts into RAM: 100%|██████████| 1/1 [00:06<00:00,  6.18s/it]\n"
     ]
    }
   ],
   "source": [
    "from ai4bharat.transliteration import XlitEngine\n",
    "e = XlitEngine(\"hi\", beam_width=10, rescore=True)"
   ]
  },
  {
   "cell_type": "code",
   "execution_count": 13,
   "metadata": {},
   "outputs": [],
   "source": [
    "def translit(text):\n",
    "    out = e.translit_word(text, topk=5)\n",
    "    print(out)\n",
    "    return out['hi'][0]"
   ]
  },
  {
   "cell_type": "code",
   "execution_count": 14,
   "metadata": {},
   "outputs": [],
   "source": [
    "def to_iso_indic_15919(text):\n",
    "    # Transliterate Devanagari script to ISO Indic 15919\n",
    "    iso_text = transliterate.process('devanagari', 'iastpali', text)\n",
    "    return iso_text"
   ]
  },
  {
   "cell_type": "code",
   "execution_count": 15,
   "metadata": {},
   "outputs": [
    {
     "name": "stdout",
     "output_type": "stream",
     "text": [
      "{'hi': ['नारायण', 'नारायणा', 'नरायण', 'नरायणा', 'नारायना']}\n",
      "{'hi': ['नारा', 'नरा', 'नार', 'णारा', 'नैरा']}\n",
      "{'hi': ['सरस्वती', 'सारस्वती', 'सरस्वति', 'सरस्वाती', 'सरास्वती']}\n",
      "{'hi': ['जाया', 'जया', 'जय', 'जेया', 'जैया']}\n",
      "{'hi': ['उग्रस्राव', 'उग्रस्रव', 'उग्रस्रवा', 'उग्रसराव', 'उग्रसरावा']}\n",
      "{'hi': ['लोमहर्षण', 'लोमहर्षणा', 'लोमाहर्षण', 'लोमाहर्षणा', 'लोमहर्षना']}\n",
      "{'hi': ['सौती', 'सोती', 'सौटी', 'सौति', 'साउती']}\n",
      "{'hi': ['पुराणों', 'पुराणा', 'पुराणास', 'पुरानास', 'पुराणस']}\n",
      "{'hi': ['सौनक', 'सौनका', 'सौनाका', 'सौंका', 'सौनाक']}\n",
      "{'hi': ['कुलपति', 'कुलापति', 'कुलापाटी', 'कुलापती', 'कुलापटी']}\n",
      "{'hi': ['नैरेशंस', 'नैरेशन्स', 'नेरेशंस', 'नैरेशनों', 'नेरेशन्स']}\n",
      "{'hi': ['लोमहर्षण', 'लोमहर्षणा', 'लोमाहर्षण', 'लोमाहर्षणा', 'लोमहर्षना']}\n",
      "{'hi': ['सौती', 'सोती', 'सौटी', 'सौति', 'साउती']}\n",
      "{'hi': ['सौती', 'सोती', 'सौटी', 'सौति', 'साउती']}\n",
      "{'Narayana': 'nārāyaṇa', 'Nara': 'nārā', 'Saraswati': 'sarasvatī', 'Jaya': 'jāyā', 'Ugrasrava': 'ugrasrāva', 'Lomaharshana': 'lomaharṣaṇa', 'Sauti': 'sautī', 'Puranas': 'purāṇoṃ', 'Saunaka': 'saunaka', 'Kulapati': 'kulapati', 'narrations': 'naireśaṃsa'}\n"
     ]
    }
   ],
   "source": [
    "ans={}\n",
    "for word in Indian_words:\n",
    "    temp=translit(word)\n",
    "    # print(temp)\n",
    "    ans[word]=to_iso_indic_15919(temp)\n",
    "print(ans)"
   ]
  },
  {
   "cell_type": "code",
   "execution_count": 16,
   "metadata": {},
   "outputs": [
    {
     "data": {
      "text/plain": [
       "{'Narayana': 'nārāyaṇa',\n",
       " 'Nara': 'nārā',\n",
       " 'Saraswati': 'sarasvatī',\n",
       " 'Jaya': 'jāyā',\n",
       " 'Ugrasrava': 'ugrasrāva',\n",
       " 'Lomaharshana': 'lomaharṣaṇa',\n",
       " 'Sauti': 'sautī',\n",
       " 'Puranas': 'purāṇoṃ',\n",
       " 'Saunaka': 'saunaka',\n",
       " 'Kulapati': 'kulapati',\n",
       " 'narrations': 'naireśaṃsa'}"
      ]
     },
     "execution_count": 16,
     "metadata": {},
     "output_type": "execute_result"
    }
   ],
   "source": [
    "ans"
   ]
  },
  {
   "cell_type": "code",
   "execution_count": null,
   "metadata": {},
   "outputs": [],
   "source": []
  }
 ],
 "metadata": {
  "kernelspec": {
   "display_name": "Python 3",
   "language": "python",
   "name": "python3"
  },
  "language_info": {
   "codemirror_mode": {
    "name": "ipython",
    "version": 3
   },
   "file_extension": ".py",
   "mimetype": "text/x-python",
   "name": "python",
   "nbconvert_exporter": "python",
   "pygments_lexer": "ipython3",
   "version": "3.12.1"
  }
 },
 "nbformat": 4,
 "nbformat_minor": 2
}
