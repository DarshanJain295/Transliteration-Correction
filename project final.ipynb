{
 "cells": [
  {
   "cell_type": "markdown",
   "metadata": {},
   "source": [
    "### Data"
   ]
  },
  {
   "cell_type": "markdown",
   "metadata": {},
   "source": [
    "This is the section 1 of Mahabharat text."
   ]
  },
  {
   "cell_type": "code",
   "execution_count": 29,
   "metadata": {},
   "outputs": [],
   "source": [
    "inputText = \"\"\"Om! Having bowed down to Narayana and Nara, the most exalted male being,\n",
    "and also to the goddess Saraswati, must the word Jaya be uttered.\n",
    "\n",
    "Ugrasrava, the son of Lomaharshana, surnamed Sauti, well-versed in the\n",
    "Puranas, bending with humility, one day approached the great sages of\n",
    "rigid vows, sitting at their ease, who had attended the twelve years’\n",
    "sacrifice of Saunaka, surnamed Kulapati, in the forest of Naimisha. Those\n",
    "ascetics, wishing to hear his wonderful narrations, presently began to\n",
    "address him who had thus arrived at that recluse abode of the inhabitants\n",
    "of the forest of Naimisha. Having been entertained with due respect by\n",
    "those holy men, he saluted those Munis (sages) with joined palms, even\n",
    "all of them, and inquired about the progress of their asceticism. Then\n",
    "all the ascetics being again seated, the son of Lomaharshana humbly\n",
    "occupied the seat that was assigned to him. Seeing that he was\n",
    "comfortably seated, and recovered from fatigue, one of the Rishis\n",
    "beginning the conversation, asked him, ‘Whence comest thou, O lotus-eyed\n",
    "Sauti, and where hast thou spent the time? Tell me, who ask thee, in\n",
    "detail.’\n",
    "\n",
    "Accomplished in speech, Sauti, thus questioned, gave in the midst of that\n",
    "big assemblage of contemplative Munis a full and proper answer in words\n",
    "consonant with their mode of life.\n",
    "\n",
    "“Sauti said, ‘Having heard the diverse sacred and wonderful stories which\n",
    "were composed in his Mahabharata by Krishna-Dwaipayana, and which were\n",
    "recited in full by Vaisampayana at the Snake-sacrifice of the high-souled\n",
    "royal sage Janamejaya and in the presence also of that chief of Princes,\n",
    "the son of Parikshit, and having wandered about, visiting many sacred\n",
    "waters and holy shrines, I journeyed to the country venerated by the\n",
    "Dwijas (twice-born) and called Samantapanchaka where formerly was fought\n",
    "the battle between the children of Kuru and Pandu, and all the chiefs of\n",
    "the land ranged on either side. Thence, anxious to see you, I am come\n",
    "into your presence. Ye reverend sages, all of whom are to me as Brahma;\n",
    "ye greatly blessed who shine in this place of sacrifice with the\n",
    "splendour of the solar fire: ye who have concluded the silent meditations\n",
    "and have fed the holy fire; and yet who are sitting--without care, what,\n",
    "O ye Dwijas (twice-born), shall I repeat, shall I recount the sacred\n",
    "stories collected in the Puranas containing precepts of religious duty\n",
    "and of worldly profit, or the acts of illustrious saints and sovereigns\n",
    "of mankind?”\n",
    "\n",
    "“The Rishi replied, ‘The Purana, first promulgated by the great Rishi\n",
    "Dwaipayana, and which after having been heard both by the gods and the\n",
    "Brahmarshis was highly esteemed, being the most eminent narrative that\n",
    "exists, diversified both in diction and division, possessing subtile\n",
    "meanings logically combined, and gleaned from the Vedas, is a sacred\n",
    "work. Composed in elegant language, it includeth the subjects of other\n",
    "books. It is elucidated by other Shastras, and comprehendeth the sense of\n",
    "the four Vedas. We are desirous of hearing that history also called\n",
    "Bharata, the holy composition of the wonderful Vyasa, which dispelleth\n",
    "the fear of evil, just as it was cheerfully recited by the Rishi\n",
    "Vaisampayana, under the direction of Dwaipayana himself, at the\n",
    "snake-sacrifice of Raja Janamejaya?’\n",
    "\n",
    "“Sauti then said, ‘Having bowed down to the primordial being Isana, to\n",
    "whom multitudes make offerings, and who is adored by the multitude; who\n",
    "is the true incorruptible one, Brahma, perceptible, imperceptible,\n",
    "eternal; who is both a non-existing and an existing-non-existing being;\n",
    "who is the universe and also distinct from the existing and non-existing\n",
    "universe; who is the creator of high and low; the ancient, exalted,\n",
    "inexhaustible one; who is Vishnu, beneficent and the beneficence itself,\n",
    "worthy of all preference, pure and immaculate; who is Hari, the ruler of\n",
    "the faculties, the guide of all things moveable and immoveable; I will\n",
    "declare the sacred thoughts of the illustrious sage Vyasa, of marvellous\n",
    "deeds and worshipped here by all. Some bards have already published this\n",
    "history, some are now teaching it, and others, in like manner, will\n",
    "hereafter promulgate it upon the earth. It is a great source of\n",
    "knowledge, established throughout the three regions of the world. It is\n",
    "possessed by the twice-born both in detailed and compendious forms. It is\n",
    "the delight of the learned for being embellished with elegant\n",
    "expressions, conversations human and divine, and a variety of poetical\n",
    "measures.\n",
    "\n",
    "In this world, when it was destitute of brightness and light, and\n",
    "enveloped all around in total darkness, there came into being, as the\n",
    "primal cause of creation, a mighty egg, the one inexhaustible seed of all\n",
    "created beings. It is called Mahadivya, and was formed at the beginning\n",
    "of the Yuga, in which we are told, was the true light Brahma, the eternal\n",
    "one, the wonderful and inconceivable being present alike in all places;\n",
    "the invisible and subtile cause, whose nature partaketh of entity and\n",
    "non-entity. From this egg came out the lord Pitamaha Brahma, the one only\n",
    "Prajapati; with Suraguru and Sthanu. Then appeared the twenty-one\n",
    "Prajapatis, viz., Manu, Vasishtha and Parameshthi; ten Prachetas, Daksha,\n",
    "and the seven sons of Daksha. Then appeared the man of inconceivable\n",
    "nature whom all the Rishis know and so the Viswe-devas, the Adityas, the\n",
    "Vasus, and the twin Aswins; the Yakshas, the Sadhyas, the Pisachas, the\n",
    "Guhyakas, and the Pitris. After these were produced the wise and most\n",
    "holy Brahmarshis, and the numerous Rajarshis distinguished by every noble\n",
    "quality. So the water, the heavens, the earth, the air, the sky, the\n",
    "points of the heavens, the years, the seasons, the months, the\n",
    "fortnights, called Pakshas, with day and night in due succession. And\n",
    "thus were produced all things which are known to mankind.\n",
    "\n",
    "And what is seen in the universe, whether animate or inanimate, of\n",
    "created things, will at the end of the world, and after the expiration of\n",
    "the Yuga, be again confounded. And, at the commencement of other Yugas,\n",
    "all things will be renovated, and, like the various fruits of the earth,\n",
    "succeed each other in the due order of their seasons. Thus continueth\n",
    "perpetually to revolve in the world, without beginning and without end,\n",
    "this wheel which causeth the destruction of all things.\n",
    "\n",
    "The generation of Devas, in brief, was thirty-three thousand,\n",
    "thirty-three hundred and thirty-three. The sons of Div were Brihadbhanu,\n",
    "Chakshus, Atma Vibhavasu, Savita, Richika, Arka, Bhanu, Asavaha, and\n",
    "Ravi. Of these Vivaswans of old, Mahya was the youngest whose son was\n",
    "Deva-vrata. The latter had for his son, Su-vrata who, we learn, had three\n",
    "sons,--Dasa-jyoti, Sata-jyoti, and Sahasra-jyoti, each of them producing\n",
    "numerous offspring. The illustrious Dasa-jyoti had ten thousand,\n",
    "Sata-jyoti ten times that number, and Sahasra-jyoti ten times the number\n",
    "of Sata-jyoti’s offspring. From these are descended the family of the\n",
    "Kurus, of the Yadus, and of Bharata; the family of Yayati and of\n",
    "Ikshwaku; also of all the Rajarshis. Numerous also were the generations\n",
    "produced, and very abundant were the creatures and their places of abode.\n",
    "The mystery which is threefold--the Vedas, Yoga, and Vijnana Dharma,\n",
    "Artha, and Kama--also various books upon the subject of Dharma, Artha,\n",
    "and Kama; also rules for the conduct of mankind; also histories and\n",
    "discourses with various srutis; all of which having been seen by the\n",
    "Rishi Vyasa are here in due order mentioned as a specimen of the book.\n",
    "\n",
    "The Rishi Vyasa published this mass of knowledge in both a detailed and\n",
    "an abridged form. It is the wish of the learned in the world to possess\n",
    "the details and the abridgement. Some read the Bharata beginning with the\n",
    "initial mantra (invocation), others with the story of Astika, others with\n",
    "Uparichara, while some Brahmanas study the whole. Men of learning display\n",
    "their various knowledge of the institutes in commenting on the\n",
    "composition. Some are skilful in explaining it, while others, in\n",
    "remembering its contents.\n",
    "\n",
    "The son of Satyavati having, by penance and meditation, analysed the\n",
    "eternal Veda, afterwards composed this holy history, when that learned\n",
    "Brahmarshi of strict vows, the noble Dwaipayana Vyasa, offspring of\n",
    "Parasara, had finished this greatest of narrations, he began to consider\n",
    "how he might teach it to his disciples. And the possessor of the six\n",
    "attributes, Brahma, the world’s preceptor, knowing of the anxiety of the\n",
    "Rishi Dwaipayana, came in person to the place where the latter was, for\n",
    "gratifying the saint, and benefiting the people. And when Vyasa,\n",
    "surrounded by all the tribes of Munis, saw him, he was surprised; and,\n",
    "standing with joined palms, he bowed and ordered a seat to be brought.\n",
    "And Vyasa having gone round him who is called Hiranyagarbha seated on\n",
    "that distinguished seat stood near it; and being commanded by Brahma\n",
    "Parameshthi, he sat down near the seat, full of affection and smiling in\n",
    "joy. Then the greatly glorious Vyasa, addressing Brahma Parameshthi,\n",
    "said, “O divine Brahma, by me a poem hath been composed which is greatly\n",
    "respected. The mystery of the Veda, and what other subjects have been\n",
    "explained by me; the various rituals of the Upanishads with the Angas;\n",
    "the compilation of the Puranas and history formed by me and named after\n",
    "the three divisions of time, past, present, and future; the determination\n",
    "of the nature of decay, fear, disease, existence, and non-existence, a\n",
    "description of creeds and of the various modes of life; rule for the four\n",
    "castes, and the import of all the Puranas; an account of asceticism and\n",
    "of the duties of a religious student; the dimensions of the sun and moon,\n",
    "the planets, constellations, and stars, together with the duration of the\n",
    "four ages; the Rik, Sama and Yajur Vedas; also the Adhyatma; the sciences\n",
    "called Nyaya, Orthoephy and Treatment of diseases; charity and\n",
    "Pasupatadharma; birth celestial and human, for particular purposes; also\n",
    "a description of places of pilgrimage and other holy places of rivers,\n",
    "mountains, forests, the ocean, of heavenly cities and the kalpas; the art\n",
    "of war; the different kinds of nations and languages: the nature of the\n",
    "manners of the people; and the all-pervading spirit;--all these have been\n",
    "represented. But, after all, no writer of this work is to be found on\n",
    "earth.’\n",
    "\n",
    "“Brahma said. ‘I esteem thee for thy knowledge of divine mysteries,\n",
    "before the whole body of celebrated Munis distinguished for the sanctity\n",
    "of their lives. I know thou hast revealed the divine word, even from its\n",
    "first utterance, in the language of truth. Thou hast called thy present\n",
    "work a poem, wherefore it shall be a poem. There shall be no poets whose\n",
    "works may equal the descriptions of this poem, even, as the three other\n",
    "modes called Asrama are ever unequal in merit to the domestic Asrama. Let\n",
    "Ganesa be thought of, O Muni, for the purpose of writing the poem.’\n",
    "\n",
    "“Sauti said, ‘Brahma having thus spoken to Vyasa, retired to his own\n",
    "abode. Then Vyasa began to call to mind Ganesa. And Ganesa, obviator of\n",
    "obstacles, ready to fulfil the desires of his votaries, was no sooner\n",
    "thought of, than he repaired to the place where Vyasa was seated. And\n",
    "when he had been saluted, and was seated, Vyasa addressed him thus, ‘O\n",
    "guide of the Ganas! be thou the writer of the Bharata which I have formed\n",
    "in my imagination, and which I am about to repeat.”\n",
    "\n",
    "“Ganesa, upon hearing this address, thus answered, ‘I will become the\n",
    "writer of thy work, provided my pen do not for a moment cease writing.”\n",
    " And Vyasa said unto that divinity, ‘Wherever there be anything thou dost\n",
    "not comprehend, cease to continue writing.’ Ganesa having signified his\n",
    "assent, by repeating the word Om! proceeded to write; and Vyasa began;\n",
    "and by way of diversion, he knit the knots of composition exceeding\n",
    "close; by doing which, he dictated this work according to his engagement.\n",
    "\n",
    "I am (continued Sauti) acquainted with eight thousand and eight hundred\n",
    "verses, and so is Suka, and perhaps Sanjaya. From the mysteriousness of\n",
    "their meaning, O Muni, no one is able, to this day, to penetrate those\n",
    "closely knit difficult slokas. Even the omniscient Ganesa took a moment\n",
    "to consider; while Vyasa, however, continued to compose other verses in\n",
    "great abundance.\n",
    "\n",
    "The wisdom of this work, like unto an instrument of applying collyrium,\n",
    "hath opened the eyes of the inquisitive world blinded by the darkness of\n",
    "ignorance. As the sun dispelleth the darkness, so doth the Bharata by its\n",
    "discourses on religion, profit, pleasure and final release, dispel the\n",
    "ignorance of men. As the full-moon by its mild light expandeth the buds\n",
    "of the water-lily, so this Purana, by exposing the light of the Sruti\n",
    "hath expanded the human intellect. By the lamp of history, which\n",
    "destroyeth the darkness of ignorance, the whole mansion of nature is\n",
    "properly and completely illuminated.\n",
    "\n",
    "This work is a tree, of which the chapter of contents is the seed; the\n",
    "divisions called Pauloma and Astika are the root; the part called\n",
    "Sambhava is the trunk; the books called Sabha and Aranya are the roosting\n",
    "perches; the books called Arani is the knitting knots; the books called\n",
    "Virata and Udyoga the pith; the book named Bhishma, the main branch; the\n",
    "book called Drona, the leaves; the book called Karna, the fair flowers;\n",
    "the book named Salya, their sweet smell; the books entitled Stri and\n",
    "Aishika, the refreshing shade; the book called Santi, the mighty fruit;\n",
    "the book called Aswamedha, the immortal sap; the denominated\n",
    "Asramavasika, the spot where it groweth; and the book called Mausala, is\n",
    "an epitome of the Vedas and held in great respect by the virtuous\n",
    "Brahmanas. The tree of the Bharata, inexhaustible to mankind as the\n",
    "clouds, shall be as a source of livelihood to all distinguished poets.”\n",
    "\n",
    "“Sauti continued, ‘I will now speak of the undying flowery and fruitful\n",
    "productions of this tree, possessed of pure and pleasant taste, and not\n",
    "to be destroyed even by the immortals. Formerly, the spirited and\n",
    "virtuous Krishna-Dwaipayana, by the injunctions of Bhishma, the wise son\n",
    "of Ganga and of his own mother, became the father of three boys who were\n",
    "like the three fires by the two wives of Vichitra-virya; and having thus\n",
    "raised up Dhritarashtra, Pandu and Vidura, he returned to his recluse\n",
    "abode to prosecute his religious exercise.\n",
    "\n",
    "It was not till after these were born, grown up, and departed on the\n",
    "supreme journey, that the great Rishi Vyasa published the Bharata in this\n",
    "region of mankind; when being solicited by Janamejaya and thousands of\n",
    "Brahmanas, he instructed his disciple Vaisampayana, who was seated near\n",
    "him; and he, sitting together with the Sadasyas, recited the Bharata,\n",
    "during the intervals of the ceremonies of the sacrifice, being repeatedly\n",
    "urged to proceed.\n",
    "\n",
    "Vyasa hath fully represented the greatness of the house of Kuru, the\n",
    "virtuous principles of Gandhari, the wisdom of Vidura, and the constancy\n",
    "of Kunti. The noble Rishi hath also described the divinity of Vasudeva,\n",
    "the rectitude of the sons of Pandu, and the evil practices of the sons\n",
    "and partisans of Dhritarashtra.\n",
    "\n",
    "Vyasa executed the compilation of the Bharata, exclusive of the episodes\n",
    "originally in twenty-four thousand verses; and so much only is called by\n",
    "the learned as the Bharata. Afterwards, he composed an epitome in one\n",
    "hundred and fifty verses, consisting of the introduction with the chapter\n",
    "of contents. This he first taught to his son Suka; and afterwards he gave\n",
    "it to others of his disciples who were possessed of the same\n",
    "qualifications. After that he executed another compilation, consisting of\n",
    "six hundred thousand verses. Of those, thirty hundred thousand are known\n",
    "in the world of the Devas; fifteen hundred thousand in the world of the\n",
    "Pitris: fourteen hundred thousand among the Gandharvas, and one hundred\n",
    "thousand in the regions of mankind. Narada recited them to the Devas,\n",
    "Devala to the Pitris, and Suka published them to the Gandharvas, Yakshas,\n",
    "and Rakshasas: and in this world they were recited by Vaisampayana, one\n",
    "of the disciples of Vyasa, a man of just principles and the first among\n",
    "all those acquainted with the Vedas. Know that I, Sauti, have also\n",
    "repeated one hundred thousand verses.\n",
    "\n",
    "Yudhishthira is a vast tree, formed of religion and virtue; Arjuna is its\n",
    "trunk; Bhimasena, its branches; the two sons of Madri are its full-grown\n",
    "fruit and flowers; and its roots are Krishna, Brahma, and the Brahmanas.\n",
    "\n",
    "Pandu, after having subdued many countries by his wisdom and prowess,\n",
    "took up his abode with the Munis in a certain forest as a sportsman,\n",
    "where he brought upon himself a very severe misfortune for having killed\n",
    "a stag coupling with its mate, which served as a warning for the conduct\n",
    "of the princes of his house as long as they lived. Their mothers, in\n",
    "order that the ordinances of the law might be fulfilled, admitted as\n",
    "substitutes to their embraces the gods Dharma, Vayu, Sakra, and the\n",
    "divinities the twin Aswins. And when their offspring grew up, under the\n",
    "care of their two mothers, in the society of ascetics, in the midst of\n",
    "sacred groves and holy recluse-abodes of religious men, they were\n",
    "conducted by Rishis into the presence of Dhritarashtra and his sons,\n",
    "following as students in the habit of Brahmacharis, having their hair\n",
    "tied in knots on their heads. ‘These our pupils’, said they, ‘are as your\n",
    "sons, your brothers, and your friends; they are Pandavas.’ Saying this,\n",
    "the Munis disappeared.\n",
    "\n",
    "When the Kauravas saw them introduced as the sons of Pandu, the\n",
    "distinguished class of citizens shouted exceedingly for joy. Some,\n",
    "however, said, they were not the sons of Pandu; others said, they were;\n",
    "while a few asked how they could be his offspring, seeing he had been so\n",
    "long dead. Still on all sides voices were heard crying, ‘They are on all\n",
    "accounts welcome! Through divine Providence we behold the family of\n",
    "Pandu! Let their welcome be proclaimed!’ As these acclamations ceased,\n",
    "the plaudits of invisible spirits, causing every point of the heavens to\n",
    "resound, were tremendous. There were showers of sweet-scented flowers,\n",
    "and the sound of shells and kettle-drums. Such were the wonders that\n",
    "happened on the arrival of the young princes. The joyful noise of all the\n",
    "citizens, in expression of their satisfaction on the occasion, was so\n",
    "great that it reached the very heavens in magnifying plaudits.\n",
    "\n",
    "Having studied the whole of the Vedas and sundry other shastras, the\n",
    "Pandavas resided there, respected by all and without apprehension from\n",
    "any one.\n",
    "\n",
    "The principal men were pleased with the purity of Yudhishthira, the\n",
    "courage of Arjuna, the submissive attention of Kunti to her superiors,\n",
    "and the humility of the twins, Nakula and Sahadeva; and all the people\n",
    "rejoiced in their heroic virtues.\n",
    "\n",
    "After a while, Arjuna obtained the virgin Krishna at the swayamvara, in\n",
    "the midst of a concourse of Rajas, by performing a very difficult feat of\n",
    "archery. And from this time he became very much respected in this world\n",
    "among all bowmen; and in fields of battle also, like the sun, he was hard\n",
    "to behold by foe-men. And having vanquished all the neighbouring princes\n",
    "and every considerable tribe, he accomplished all that was necessary for\n",
    "the Raja (his eldest brother) to perform the great sacrifice called\n",
    "Rajasuya.\n",
    "\n",
    "Yudhishthira, after having, through the wise counsels of Vasudeva and by\n",
    "the valour of Bhimasena and Arjuna, slain Jarasandha (the king of\n",
    "Magadha) and the proud Chaidya, acquired the right to perform the grand\n",
    "sacrifice of Rajasuya abounding in provisions and offering and fraught\n",
    "with transcendent merits. And Duryodhana came to this sacrifice; and when\n",
    "he beheld the vast wealth of the Pandavas scattered all around, the\n",
    "offerings, the precious stones, gold and jewels; the wealth in cows,\n",
    "elephants, and horses; the curious textures, garments, and mantles; the\n",
    "precious shawls and furs and carpets made of the skin of the Ranku; he\n",
    "was filled with envy and became exceedingly displeased. And when he\n",
    "beheld the hall of assembly elegantly constructed by Maya (the Asura\n",
    "architect) after the fashion of a celestial court, he was inflamed with\n",
    "rage. And having started in confusion at certain architectural deceptions\n",
    "within this building, he was derided by Bhimasena in the presence of\n",
    "Vasudeva, like one of mean descent.\n",
    "\n",
    "And it was represented to Dhritarashtra that his son, while partaking of\n",
    "various objects of enjoyment and diverse precious things, was becoming\n",
    "meagre, wan, and pale. And Dhritarashtra, some time after, out of\n",
    "affection for his son, gave his consent to their playing (with the\n",
    "Pandavas) at dice. And Vasudeva coming to know of this, became\n",
    "exceedingly wroth. And being dissatisfied, he did nothing to prevent the\n",
    "disputes, but overlooked the gaming and sundry other horried\n",
    "unjustifiable transactions arising therefrom: and in spite of Vidura,\n",
    "Bhishma, Drona, and Kripa, the son of Saradwan, he made the Kshatriyas\n",
    "kill each other in the terrific war that ensued.’\n",
    "\n",
    "“And Dhritarashtra hearing the ill news of the success of the Pandavas\n",
    "and recollecting the resolutions of Duryodhana, Kama, and Sakuni,\n",
    "pondered for a while and addressed to Sanjaya the following speech:--\n",
    "\n",
    "‘Attend, O Sanjaya, to all I am about to say, and it will not become thee\n",
    "to treat me with contempt. Thou art well-versed in the shastras,\n",
    "intelligent and endowed with wisdom. My inclination was never to war, not\n",
    "did I delight in the destruction of my race. I made no distinction\n",
    "between my own children and the children of Pandu. My own sons were prone\n",
    "to wilfulness and despised me because I am old. Blind as I am, because of\n",
    "my miserable plight and through paternal affection, I bore it all. I was\n",
    "foolish alter the thoughtless Duryodhana ever growing in folly. Having\n",
    "been a spectator of the riches of the mighty sons of Pandu, my son was\n",
    "derided for his awkwardness while ascending the hall. Unable to bear it\n",
    "all and unable himself to overcome the sons of Pandu in the field, and\n",
    "though a soldier, unwilling yet to obtain good fortune by his own\n",
    "exertion, with the help of the king of Gandhara he concerted an unfair\n",
    "game at dice.\n",
    "\n",
    "‘Hear, O Sanjaya, all that happened thereupon and came to my knowledge.\n",
    "And when thou hast heard all I say, recollecting everything as it fell\n",
    "out, thou shall then know me for one with a prophetic eye. When I heard\n",
    "that Arjuna, having bent the bow, had pierced the curious mark and\n",
    "brought it down to the ground, and bore away in triumph the maiden\n",
    "Krishna, in the sight of the assembled princes, then, O Sanjaya I had no\n",
    "hope of success. When I heard that Subhadra of the race of Madhu had,\n",
    "after forcible seizure been married by Arjuna in the city of Dwaraka, and\n",
    "that the two heroes of the race of Vrishni (Krishna and Balarama the\n",
    "brothers of Subhadra) without resenting it had entered Indraprastha as\n",
    "friends, then, O Sanjaya, I had no hope of success. When I heard that\n",
    "Arjuna, by his celestial arrow preventing the downpour by Indra the king\n",
    "of the gods, had gratified Agni by making over to him the forest of\n",
    "Khandava, then, O Sanjaya, I had no hope of success. When I heard that\n",
    "the five Pandavas with their mother Kunti had escaped from the house of\n",
    "lac, and that Vidura was engaged in the accomplishment of their designs,\n",
    "then, O Sanjaya, I had no hope of success. When I heard that Arjuna,\n",
    "after having pierced the mark in the arena had won Draupadi, and that the\n",
    "brave Panchalas had joined the Pandavas, then, O Sanjaya, I had no hope\n",
    "of success. When I heard that Jarasandha, the foremost of the royal line\n",
    "of Magadha, and blazing in the midst of the Kshatriyas, had been slain by\n",
    "Bhima with his bare arms alone, then, O Sanjaya, I had no hope of\n",
    "success. When I heard that in their general campaign the sons of Pandu\n",
    "had conquered the chiefs of the land and performed the grand sacrifice of\n",
    "the Rajasuya, then, O Sanjaya, I had no hope of success. When I heard\n",
    "that Draupadi, her voice choked with tears and heart full of agony, in\n",
    "the season of impurity and with but one raiment on, had been dragged into\n",
    "court and though she had protectors, she had been treated as if she had\n",
    "none, then, O Sanjaya, I had no hope of success. When I heard that the\n",
    "wicked wretch Duhsasana, was striving to strip her of that single\n",
    "garment, had only drawn from her person a large heap of cloth without\n",
    "being able to arrive at its end, then, O Sanjaya, I had no hope of\n",
    "success. When I heard that Yudhishthira, beaten by Saubala at the game of\n",
    "dice and deprived of his kingdom as a consequence thereof, had still been\n",
    "attended upon by his brothers of incomparable prowess, then, O Sanjaya, I\n",
    "had no hope of success. When I heard that the virtuous Pandavas weeping\n",
    "with affliction had followed their elder brother to the wilderness and\n",
    "exerted themselves variously for the mitigation of his discomforts, then,\n",
    "O Sanjaya, I had no hope of success.\n",
    "\n",
    "‘When I heard that Yudhishthira had been followed into the wilderness by\n",
    "Snatakas and noble-minded Brahmanas who live upon alms, then, O Sanjaya,\n",
    "I had no hope of success. When I heard that Arjuna, having, in combat,\n",
    "pleased the god of gods, Tryambaka (the three-eyed) in the disguise of a\n",
    "hunter, obtained the great weapon Pasupata, then O Sanjaya, I had no hope\n",
    "of success. When I heard that the just and renowned Arjuna after having\n",
    "been to the celestial regions, had there obtained celestial weapons from\n",
    "Indra himself then, O Sanjaya, I had no hope of success. When I heard\n",
    "that afterwards Arjuna had vanquished the Kalakeyas and the Paulomas\n",
    "proud with the boon they had obtained and which had rendered them\n",
    "invulnerable even to the celestials, then, O Sanjaya, I had no hope of\n",
    "success. When I heard that Arjuna, the chastiser of enemies, having gone\n",
    "to the regions of Indra for the destruction of the Asuras, had returned\n",
    "thence successful, then, O Sanjaya, I had no hope of success. When I\n",
    "heard that Bhima and the other sons of Pritha (Kunti) accompanied by\n",
    "Vaisravana had arrived at that country which is inaccessible to man then,\n",
    "O Sanjaya, I had no hope of success. When I heard that my sons, guided by\n",
    "the counsels of Karna, while on their journey of Ghoshayatra, had been\n",
    "taken prisoners by the Gandharvas and were set free by Arjuna, then, O\n",
    "Sanjaya, I had no hope of success. When I heard that Dharma (the god of\n",
    "justice) having come under the form of a Yaksha had proposed certain\n",
    "questions to Yudhishthira then, O Sanjaya, I had no hope of success. When\n",
    "I heard that my sons had failed to discover the Pandavas under their\n",
    "disguise while residing with Draupadi in the dominions of Virata, then, O\n",
    "Sanjaya, I had no hope of success. When I heard that the principal men of\n",
    "my side had all been vanquished by the noble Arjuna with a single chariot\n",
    "while residing in the dominions of Virata, then, O Sanjaya, I had no hope\n",
    "of success. When I heard that Vasudeva of the race of Madhu, who covered\n",
    "this whole earth by one foot, was heartily interested in the welfare of\n",
    "the Pandavas, then, O Sanjaya, I had no hope of success. When I heard\n",
    "that the king of Matsya, had offered his virtuous daughter Uttara to\n",
    "Arjuna and that Arjuna had accepted her for his son, then, O Sanjaya, I\n",
    "had no hope of success. When I heard that Yudhishthira, beaten at dice,\n",
    "deprived of wealth, exiled and separated from his connections, had\n",
    "assembled yet an army of seven Akshauhinis, then, O Sanjaya, I had no\n",
    "hope of success. When I heard Narada, declare that Krishna and Arjuna\n",
    "were Nara and Narayana and he (Narada) had seen them together in the\n",
    "regions of Brahma, then, O Sanjaya, I had no hope of success. When I\n",
    "heard that Krishna, anxious to bring about peace, for the welfare of\n",
    "mankind had repaired to the Kurus, and went away without having been able\n",
    "to effect his purpose, then, O Sanjaya, I had no hope of success. When I\n",
    "heard that Kama and Duryodhana resolved upon imprisoning Krishna\n",
    "displayed in himself the whole universe, then, O Sanjaya, I had no hope\n",
    "of success. Then I heard that at the time of his departure, Pritha\n",
    "(Kunti) standing, full of sorrow, near his chariot received consolation\n",
    "from Krishna, then, O Sanjaya, I had no hope of success. When I heard\n",
    "that Vasudeva and Bhishma the son of Santanu were the counsellors of the\n",
    "Pandavas and Drona the son of Bharadwaja pronounced blessings on them,\n",
    "then, O Sanjaya, I had no hope of success. When Kama said unto Bhishma--I\n",
    "will not fight when thou art fighting--and, quitting the army, went away,\n",
    "then, O Sanjaya, I had no hope of success. When I heard that Vasudeva and\n",
    "Arjuna and the bow Gandiva of immeasurable prowess, these three of\n",
    "dreadful energy had come together, then, O Sanjaya, I had no hope of\n",
    "success. When I heard that upon Arjuna having been seized with\n",
    "compunction on his chariot and ready to sink, Krishna showed him all the\n",
    "worlds within his body, then, O Sanjaya, I had no hope of success. When I\n",
    "heard that Bhishma, the desolator of foes, killing ten thousand\n",
    "charioteers every day in the field of battle, had not slain any amongst\n",
    "the Pandavas then, O Sanjaya, I had no hope of success. When I heard that\n",
    "Bhishma, the righteous son of Ganga, had himself indicated the means of\n",
    "his defeat in the field of battle and that the same were accomplished by\n",
    "the Pandavas with joyfulness, then, O Sanjaya, I had no hope of success.\n",
    "When I heard that Arjuna, having placed Sikhandin before himself in his\n",
    "chariot, had wounded Bhishma of infinite courage and invincible in\n",
    "battle, then, O Sanjaya, I had no hope of success. When I heard that the\n",
    "aged hero Bhishma, having reduced the numbers of the race of shomaka to a\n",
    "few, overcome with various wounds was lying on a bed of arrows, then, O\n",
    "Sanjaya, I had no hope of success. When I heard that upon Bhishma’s lying\n",
    "on the ground with thirst for water, Arjuna, being requested, had pierced\n",
    "the ground and allayed his thirst, then, O Sanjaya, I had no hope of\n",
    "success. When Bayu together with Indra and Suryya united as allies for\n",
    "the success of the sons of Kunti, and the beasts of prey (by their\n",
    "inauspicious presence) were putting us in fear, then, O Sanjaya, I had no\n",
    "hope of success. When the wonderful warrior Drona, displaying various\n",
    "modes of fight in the field, did not slay any of the superior Pandavas,\n",
    "then, O Sanjaya, I had no hope of success. When I heard that the\n",
    "Maharatha Sansaptakas of our army appointed for the overthrow of Arjuna\n",
    "were all slain by Arjuna himself, then, O Sanjaya, I had no hope of\n",
    "success. When I heard that our disposition of forces, impenetrable by\n",
    "others, and defended by Bharadwaja himself well-armed, had been singly\n",
    "forced and entered by the brave son of Subhadra, then, O Sanjaya, I had\n",
    "no hope of success. When I heard that our Maharathas, unable to overcome\n",
    "Arjuna, with jubilant faces after having jointly surrounded and slain the\n",
    "boy Abhimanyu, then, O Sanjaya, I had no hope of success. When I heard\n",
    "that the blind Kauravas were shouting for joy after having slain\n",
    "Abhimanyu and that thereupon Arjuna in anger made his celebrated speech\n",
    "referring to Saindhava, then, O Sanjaya, I had no hope of success. When I\n",
    "heard that Arjuna had vowed the death of Saindhava and fulfilled his vow\n",
    "in the presence of his enemies, then, O Sanjaya, I had no hope of\n",
    "success. When I heard that upon the horses of Arjuna being fatigued,\n",
    "Vasudeva releasing them made them drink water and bringing them back and\n",
    "reharnessing them continued to guide them as before, then, O Sanjaya, I\n",
    "had no hope of success. When I heard that while his horses were fatigued,\n",
    "Arjuna staying in his chariot checked all his assailants, then, O\n",
    "Sanjaya, I had no hope of success. When I heard that Yuyudhana of the\n",
    "race of Vrishni, after having thrown into confusion the army of Drona\n",
    "rendered unbearable in prowess owing to the presence of elephants,\n",
    "retired to where Krishna and Arjuna were, then, O Sanjaya, I had no hope\n",
    "of success. When I heard that Karna even though he had got Bhima within\n",
    "his power allowed him to escape after only addressing him in contemptuous\n",
    "terms and dragging him with the end of his bow, then, O Sanjaya, I had no\n",
    "hope of success. When I heard that Drona, Kritavarma, Kripa, Karna, the\n",
    "son of Drona, and the valiant king of Madra (Salya) suffered Saindhava to\n",
    "be slain, then, O Sanjaya, I had no hope of success. When I heard that\n",
    "the celestial Sakti given by Indra (to Karna) was by Madhava’s\n",
    "machinations caused to be hurled upon Rakshasa Ghatotkacha of frightful\n",
    "countenance, then, O Sanjaya, I had no hope of success. When I heard that\n",
    "in the encounter between Karna and Ghatotkacha, that Sakti was hurled\n",
    "against Ghatotkacha by Karna, the same which was certainly to have slain\n",
    "Arjuna in battle, then, O Sanjaya. I had no hope of success. When I heard\n",
    "that Dhristadyumna, transgressing the laws of battle, slew Drona while\n",
    "alone in his chariot and resolved on death, then, O Sanjaya, I had no\n",
    "hope of success. When I heard that Nakula. the son of Madri, having in\n",
    "the presence of the whole army engaged in single combat with the son of\n",
    "Drona and showing himself equal to him drove his chariot in circles\n",
    "around, then, O Sanjaya, I had no hope of success. When upon the death of\n",
    "Drona, his son misused the weapon called Narayana but failed to achieve\n",
    "the destruction of the Pandavas, then, O Sanjaya, I had no hope of\n",
    "success. When I heard that Bhimasena drank the blood of his brother\n",
    "Duhsasana in the field of battle without anybody being able to prevent\n",
    "him, then, O Sanjaya, I had no hope of success. When I heard that the\n",
    "infinitely brave Karna, invincible in battle, was slain by Arjuna in that\n",
    "war of brothers mysterious even to the gods, then, O Sanjaya, I had no\n",
    "hope of success. When I heard that Yudhishthira, the Just, overcame the\n",
    "heroic son of Drona, Duhsasana, and the fierce Kritavarman, then, O\n",
    "Sanjaya, I had no hope of success. When I heard that the brave king of\n",
    "Madra who ever dared Krishna in battle was slain by Yudhishthira, then, O\n",
    "Sanjaya, I had no hope of success. When I heard that the wicked Suvala of\n",
    "magic power, the root of the gaming and the feud, was slain in battle by\n",
    "Sahadeva, the son of Pandu, then, O Sanjaya, I had no hope of success.\n",
    "When I heard that Duryodhana, spent with fatigue, having gone to a lake\n",
    "and made a refuge for himself within its waters, was lying there alone,\n",
    "his strength gone and without a chariot, then, O Sanjaya, I had no hope\n",
    "of success. When I heard that the Pandavas having gone to that lake\n",
    "accompanied by Vasudeva and standing on its beach began to address\n",
    "contemptuously my son who was incapable of putting up with affronts,\n",
    "then, O Sanjaya, I had no hope of success. When I heard that while,\n",
    "displaying in circles a variety of curious modes (of attack and defence)\n",
    "in an encounter with clubs, he was unfairly slain according to the\n",
    "counsels of Krishna, then, O Sanjaya, I had no hope of success. When I\n",
    "heard the son of Drona and others by slaying the Panchalas and the sons\n",
    "of Draupadi in their sleep, perpetrated a horrible and infamous deed,\n",
    "then, O Sanjaya, I had no hope of success. When I heard that Aswatthaman\n",
    "while being pursued by Bhimasena had discharged the first of weapons\n",
    "called Aishika, by which the embryo in the womb (of Uttara) was wounded,\n",
    "then, O Sanjaya, I had no hope of success. When I heard that the weapon\n",
    "Brahmashira (discharged by Aswatthaman) was repelled by Arjuna with\n",
    "another weapon over which he had pronounced the word “Sasti” and that\n",
    "Aswatthaman had to give up the jewel-like excrescence on his head, then,\n",
    "O Sanjaya, I had no hope of success. When I heard that upon the embryo in\n",
    "the womb of Virata’s daughter being wounded by Aswatthaman with a mighty\n",
    "weapon, Dwaipayana and Krishna pronounced curses on him, then, O Sanjaya,\n",
    "I had no hope of success.\n",
    "\n",
    "‘Alas! Gandhari, destitute of children, grand-children, parents,\n",
    "brothers, and kindred, is to be pitied. Difficult is the task that hath\n",
    "been performed by the Pandavas: by them hath a kingdom been recovered\n",
    "without a rival.\n",
    "\n",
    "‘Alas! I have heard that the war hath left only ten alive: three of our\n",
    "side, and the Pandavas, seven, in that dreadful conflict eighteen\n",
    "Akshauhinis of Kshatriyas have been slain! All around me is utter\n",
    "darkness, and a fit of swoon assaileth me: consciousness leaves me, O\n",
    "Suta, and my mind is distracted.”\n",
    "\n",
    "“Sauti said, ‘Dhritarashtra, bewailing his fate in these words, was\n",
    "overcome with extreme anguish and for a time deprived of sense; but being\n",
    "revived, he addressed Sanjaya in the following words.\n",
    "\n",
    "“After what hath come to pass, O Sanjaya, I wish to put an end to my life\n",
    "without delay; I do not find the least advantage in cherishing it any\n",
    "longer.”\n",
    "\n",
    "“Sauti said, ‘The wise son of Gavalgana (Sanjaya) then addressed the\n",
    "distressed lord of Earth while thus talking and bewailing, sighing like a\n",
    "serpent and repeatedly tainting, in words of deep import.\n",
    "\n",
    "“Thou hast heard, O Raja, of the greatly powerful men of vast exertions,\n",
    "spoken of by Vyasa and the wise Narada; men born of great royal families,\n",
    "resplendent with worthy qualities, versed in the science of celestial\n",
    "arms, and in glory emblems of Indra; men who having conquered the world\n",
    "by justice and performed sacrifices with fit offerings (to the\n",
    "Brahmanas), obtained renown in this world and at last succumbed to the\n",
    "sway of time. Such were Saivya; the valiant Maharatha; Srinjaya, great\n",
    "amongst conquerors. Suhotra; Rantideva, and Kakshivanta, great in glory;\n",
    "Valhika, Damana, Saryati, Ajita, and Nala; Viswamitra the destroyer of\n",
    "foes; Amvarisha, great in strength; Marutta, Manu, Ikshaku, Gaya, and\n",
    "Bharata; Rama the son of Dasaratha; Sasavindu, and Bhagiratha;\n",
    "Kritavirya, the greatly fortunate, and Janamejaya too; and Yayati of good\n",
    "deeds who performed sacrifices, being assisted therein by the celestials\n",
    "themselves, and by whose sacrificial altars and stakes this earth with\n",
    "her habited and uninhabited regions hath been marked all over. These\n",
    "twenty-four Rajas were formerly spoken of by the celestial Rishi Narada\n",
    "unto Saivya when much afflicted for the loss of his children. Besides\n",
    "these, other Rajas had gone before, still more powerful than they, mighty\n",
    "charioteers noble in mind, and resplendent with every worthy quality.\n",
    "These were Puru, Kuru, Yadu, Sura and Viswasrawa of great glory; Anuha,\n",
    "Yuvanaswu, Kakutstha, Vikrami, and Raghu; Vijava, Virihorta, Anga, Bhava,\n",
    "Sweta, and Vripadguru; Usinara, Sata-ratha, Kanka, Duliduha, and Druma;\n",
    "Dambhodbhava, Para, Vena, Sagara, Sankriti, and Nimi; Ajeya, Parasu,\n",
    "Pundra, Sambhu, and holy Deva-Vridha; Devahuya, Supratika, and\n",
    "Vrihad-ratha; Mahatsaha, Vinitatma, Sukratu, and Nala, the king of the\n",
    "Nishadas; Satyavrata, Santabhaya, Sumitra, and the chief Subala;\n",
    "Janujangha, Anaranya, Arka, Priyabhritya, Chuchi-vrata, Balabandhu,\n",
    "Nirmardda, Ketusringa, and Brhidbala; Dhrishtaketu, Brihatketu,\n",
    "Driptaketu, and Niramaya; Abikshit, Chapala, Dhurta, Kritbandhu, and\n",
    "Dridhe-shudhi; Mahapurana-sambhavya, Pratyanga, Paraha and Sruti. These,\n",
    "O chief, and other Rajas, we hear enumerated by hundreds and by\n",
    "thousands, and still others by millions, princes of great power and\n",
    "wisdom, quitting very abundant enjoyments met death as thy sons have\n",
    "done! Their heavenly deeds, valour, and generosity, their magnanimity,\n",
    "faith, truth, purity, simplicity and mercy, are published to the world in\n",
    "the records of former times by sacred bards of great learning. Though\n",
    "endued with every noble virtue, these have yielded up their lives. Thy\n",
    "sons were malevolent, inflamed with passion, avaricious, and of very\n",
    "evil-disposition. Thou art versed in the Sastras, O Bharata, and art\n",
    "intelligent and wise; they never sink under misfortunes whose\n",
    "understandings are guided by the Sastras. Thou art acquainted, O prince,\n",
    "with the lenity and severity of fate; this anxiety therefore for the\n",
    "safety of thy children is unbecoming. Moreover, it behoveth thee not to\n",
    "grieve for that which must happen: for who can avert, by his wisdom, the\n",
    "decrees of fate? No one can leave the way marked out for him by\n",
    "Providence. Existence and non-existence, pleasure and pain all have Time\n",
    "for their root. Time createth all things and Time destroyeth all\n",
    "creatures. It is Time that burneth creatures and it is Time that\n",
    "extinguisheth the fire. All states, the good and the evil, in the three\n",
    "worlds, are caused by Time. Time cutteth short all things and createth\n",
    "them anew. Time alone is awake when all things are asleep: indeed, Time\n",
    "is incapable of being overcome. Time passeth over all things without\n",
    "being retarded. Knowing, as thou dost, that all things past and future\n",
    "and all that exist at the present moment, are the offspring of Time, it\n",
    "behoveth thee not to throw away thy reason.’\n",
    "\n",
    "“Sauti said, ‘The son of Gavalgana having in this manner administered\n",
    "comfort to the royal Dhritarashtra overwhelmed with grief for his sons,\n",
    "then restored his mind to peace. Taking these facts for his subject,\n",
    "Dwaipayana composed a holy Upanishad that has been published to the world\n",
    "by learned and sacred bards in the Puranas composed by them.\n",
    "\n",
    "“The study of the Bharata is an act of piety. He that readeth even one\n",
    "foot, with belief, hath his sins entirely purged away. Herein Devas,\n",
    "Devarshis, and immaculate Brahmarshis of good deeds, have been spoken of;\n",
    "and likewise Yakshas and great Uragas (Nagas). Herein also hath been\n",
    "described the eternal Vasudeva possessing the six attributes. He is the\n",
    "true and just, the pure and holy, the eternal Brahma, the supreme soul,\n",
    "the true constant light, whose divine deeds wise and learned recount;\n",
    "from whom hath proceeded the non-existent and existent-non-existent\n",
    "universe with principles of generation and progression, and birth, death\n",
    "and re-birth. That also hath been treated of which is called Adhyatma\n",
    "(the superintending spirit of nature) that partaketh of the attributes of\n",
    "the five elements. That also hath been described who is purusha being\n",
    "above such epithets as ‘undisplayed’ and the like; also that which the\n",
    "foremost yatis exempt from the common destiny and endued with the power\n",
    "of meditation and Tapas behold dwelling in their hearts as a reflected\n",
    "image in the mirror.\n",
    "\n",
    "“The man of faith, devoted to piety, and constant in the exercise of\n",
    "virtue, on reading this section is freed from sin. The believer that\n",
    "constantly heareth recited this section of the Bharata, called the\n",
    "Introduction, from the beginning, falleth not into difficulties. The man\n",
    "repeating any part of the introduction in the two twilights is during\n",
    "such act freed from the sins contracted during the day or the night. This\n",
    "section, the body of the Bharata, is truth and nectar. As butter is in\n",
    "curd, Brahmana among bipeds, the Aranyaka among the Vedas, and nectar\n",
    "among medicines; as the sea is eminent among receptacles of water, and\n",
    "the cow among quadrupeds; as are these (among the things mentioned) so is\n",
    "the Bharata said to be among histories.\n",
    "\n",
    "“He that causeth it, even a single foot thereof, to be recited to\n",
    "Brahmanas during a Sradha, his offerings of food and drink to the manes\n",
    "of his ancestors become inexhaustible.\n",
    "\n",
    "“By the aid of history and the Puranas, the Veda may be expounded; but\n",
    "the Veda is afraid of one of little information lest he should it. The\n",
    "learned man who recites to other this Veda of Vyasa reapeth advantage. It\n",
    "may without doubt destroy even the sin of killing the embryo and the\n",
    "like. He that readeth this holy chapter of the moon, readeth the whole of\n",
    "the Bharata, I ween. The man who with reverence daily listeneth to this\n",
    "sacred work acquireth long life and renown and ascendeth to heaven.\n",
    "\n",
    "“In former days, having placed the four Vedas on one side and the Bharata\n",
    "on the other, these were weighed in the balance by the celestials\n",
    "assembled for that purpose. And as the latter weighed heavier than the\n",
    "four Vedas with their mysteries, from that period it hath been called in\n",
    "the world Mahabharata (the great Bharata). Being esteemed superior both\n",
    "in substance and gravity of import it is denominated Mahabharata on\n",
    "account of such substance and gravity of import. He that knoweth its\n",
    "meaning is saved from all his sins.\n",
    "\n",
    "‘Tapa is innocent, study is harmless, the ordinance of the Vedas\n",
    "prescribed for all the tribes are harmless, the acquisition of wealth by\n",
    "exertion is harmless; but when they are abused in their practices it is\n",
    "then that they become sources of evil.’”\"\"\""
   ]
  },
  {
   "cell_type": "markdown",
   "metadata": {},
   "source": [
    "### User Defined Input"
   ]
  },
  {
   "cell_type": "code",
   "execution_count": 13,
   "metadata": {},
   "outputs": [],
   "source": [
    "#If you want to check the corrected transliteration of word run this code else skip the section\n",
    "inputText = input(\"Enter your word: \") \n",
    " "
   ]
  },
  {
   "cell_type": "markdown",
   "metadata": {},
   "source": [
    "### Pre-processing and cleaning"
   ]
  },
  {
   "cell_type": "code",
   "execution_count": 2,
   "metadata": {},
   "outputs": [
    {
     "data": {
      "text/plain": [
       "8"
      ]
     },
     "execution_count": 2,
     "metadata": {},
     "output_type": "execute_result"
    }
   ],
   "source": [
    "len(inputText)"
   ]
  },
  {
   "cell_type": "code",
   "execution_count": 14,
   "metadata": {},
   "outputs": [
    {
     "data": {
      "text/plain": [
       "1"
      ]
     },
     "execution_count": 14,
     "metadata": {},
     "output_type": "execute_result"
    }
   ],
   "source": [
    "inputText =  inputText.replace(\"-\", \" \")  # Remove hyphens\n",
    "input1 = ''.join(char for char in inputText if char.isalnum() or char.isspace())\n",
    "input1 = input1.split()\n",
    "len(input1)"
   ]
  },
  {
   "cell_type": "code",
   "execution_count": 15,
   "metadata": {},
   "outputs": [
    {
     "data": {
      "text/plain": [
       "1"
      ]
     },
     "execution_count": 15,
     "metadata": {},
     "output_type": "execute_result"
    }
   ],
   "source": [
    "input1 = list(set(input1))\n",
    "len(input1)"
   ]
  },
  {
   "cell_type": "markdown",
   "metadata": {},
   "source": [
    "Importing nltk dictionary to reduce the number of data to which transliteration task is done."
   ]
  },
  {
   "cell_type": "code",
   "execution_count": 16,
   "metadata": {},
   "outputs": [
    {
     "name": "stderr",
     "output_type": "stream",
     "text": [
      "[nltk_data] Downloading package words to\n",
      "[nltk_data]     C:\\Users\\Darshan\\AppData\\Roaming\\nltk_data...\n",
      "[nltk_data]   Package words is already up-to-date!\n"
     ]
    }
   ],
   "source": [
    "import nltk\n",
    "from nltk.corpus import words as nltk_words\n",
    "\n",
    "nltk.download('words')  # Download dictionary\n",
    "\n",
    "english_words = set(nltk_words.words())\n",
    "\n",
    "def is_english_word(word):\n",
    "    return word.lower() in english_words\n",
    "\n",
    "\n",
    "primary_cleaned = [word for word in input1 if not is_english_word(word)]\n"
   ]
  },
  {
   "cell_type": "code",
   "execution_count": 17,
   "metadata": {},
   "outputs": [
    {
     "data": {
      "text/plain": [
       "1"
      ]
     },
     "execution_count": 17,
     "metadata": {},
     "output_type": "execute_result"
    }
   ],
   "source": [
    "len(primary_cleaned)"
   ]
  },
  {
   "cell_type": "markdown",
   "metadata": {},
   "source": [
    "Using Microsoft LId tool to classify tags of words. "
   ]
  },
  {
   "cell_type": "code",
   "execution_count": 18,
   "metadata": {},
   "outputs": [
    {
     "name": "stdout",
     "output_type": "stream",
     "text": [
      "HINDI dictionary created\n",
      "ENGLISH dictionary created\n"
     ]
    }
   ],
   "source": [
    "from getLanguage import langIdentify\n",
    "classifier =\"classifiers/HiEn.classifier\"\n",
    "Indian_words=[]\n",
    "# sending the data in classifier word by word...\n",
    "for word in primary_cleaned:\n",
    "    tags= langIdentify(word, classifier)\n",
    "    if(tags[0][0][1]==\"HI\"):\n",
    "        Indian_words.append(tags[0][0][0])\n"
   ]
  },
  {
   "cell_type": "markdown",
   "metadata": {},
   "source": [
    "These are the words that the classifier gives as Indian Words"
   ]
  },
  {
   "cell_type": "code",
   "execution_count": 19,
   "metadata": {},
   "outputs": [
    {
     "data": {
      "text/plain": [
       "1"
      ]
     },
     "execution_count": 19,
     "metadata": {},
     "output_type": "execute_result"
    }
   ],
   "source": [
    "len(Indian_words)"
   ]
  },
  {
   "cell_type": "code",
   "execution_count": 20,
   "metadata": {},
   "outputs": [
    {
     "name": "stdout",
     "output_type": "stream",
     "text": [
      "Initializing Multilingual model for transliteration\n"
     ]
    },
    {
     "name": "stderr",
     "output_type": "stream",
     "text": [
      "c:\\Users\\Darshan\\AppData\\Local\\Programs\\Python\\Python312\\Lib\\site-packages\\hydra\\experimental\\initialize.py:43: UserWarning: hydra.experimental.initialize() is no longer experimental. Use hydra.initialize()\n",
      "  deprecation_warning(message=message)\n",
      "c:\\Users\\Darshan\\AppData\\Local\\Programs\\Python\\Python312\\Lib\\site-packages\\hydra\\experimental\\initialize.py:45: UserWarning: \n",
      "The version_base parameter is not specified.\n",
      "Please specify a compatability version level, or None.\n",
      "Will assume defaults for version 1.1\n",
      "  self.delegate = real_initialize(\n",
      "c:\\Users\\Darshan\\AppData\\Local\\Programs\\Python\\Python312\\Lib\\site-packages\\hydra\\experimental\\compose.py:25: UserWarning: hydra.experimental.compose() is no longer experimental. Use hydra.compose()\n",
      "  deprecation_warning(message=message)\n",
      "c:\\Users\\Darshan\\AppData\\Local\\Programs\\Python\\Python312\\Lib\\site-packages\\hydra\\core\\default_element.py:124: UserWarning: In 'config': Usage of deprecated keyword in package header '# @package _group_'.\n",
      "See https://hydra.cc/docs/1.2/upgrades/1.0_to_1.1/changes_to_package_header for more information\n",
      "  deprecation_warning(\n",
      "c:\\Users\\Darshan\\AppData\\Local\\Programs\\Python\\Python312\\Lib\\site-packages\\ai4bharat\\transliteration\\transformer\\en2indic.py:78: UserWarning: \n",
      "'config' is validated against ConfigStore schema with the same name.\n",
      "This behavior is deprecated in Hydra 1.1 and will be removed in Hydra 1.2.\n",
      "See https://hydra.cc/docs/1.2/upgrades/1.0_to_1.1/automatic_schema_matching for migration instructions.\n",
      "  super().__init__(models_path, beam_width=beam_width, rescore=rescore)\n",
      "c:\\Users\\Darshan\\AppData\\Local\\Programs\\Python\\Python312\\Lib\\site-packages\\hydra\\compose.py:56: UserWarning: \n",
      "The strict flag in the compose API is deprecated.\n",
      "See https://hydra.cc/docs/1.2/upgrades/0.11_to_1.0/strict_mode_flag_deprecated for more info.\n",
      "\n",
      "  deprecation_warning(\n",
      "Loading dicts into RAM: 100%|██████████| 1/1 [00:04<00:00,  4.83s/it]\n"
     ]
    }
   ],
   "source": [
    "from aksharamukha import transliterate\n",
    "from ai4bharat.transliteration import XlitEngine\n",
    "e = XlitEngine(\"hi\", beam_width=10, rescore=True)"
   ]
  },
  {
   "cell_type": "code",
   "execution_count": 21,
   "metadata": {},
   "outputs": [],
   "source": [
    "def translit(text):\n",
    "    # using XlitEngine to get the closest correct word in Hindi.\n",
    "    out = e.translit_word(text, topk=5)\n",
    "    return out['hi'][0]\n",
    "def to_iso_indic_15919(text):\n",
    "    # Transliterating Devanagari script to ISO Indic 15919\n",
    "    iso_text = transliterate.process('devanagari', 'iso', text)\n",
    "    return iso_text"
   ]
  },
  {
   "cell_type": "code",
   "execution_count": 22,
   "metadata": {},
   "outputs": [],
   "source": [
    "ans={}\n",
    "for word in Indian_words:\n",
    "    temp=translit(word)\n",
    "    ans[word]=to_iso_indic_15919(temp)"
   ]
  },
  {
   "cell_type": "code",
   "execution_count": 23,
   "metadata": {},
   "outputs": [
    {
     "name": "stdout",
     "output_type": "stream",
     "text": [
      "{'Shauryaa': 'śauryā'}\n"
     ]
    }
   ],
   "source": [
    "print(ans)"
   ]
  },
  {
   "cell_type": "markdown",
   "metadata": {},
   "source": [
    "Storing the outputs in dataset folder."
   ]
  },
  {
   "cell_type": "code",
   "execution_count": 68,
   "metadata": {},
   "outputs": [],
   "source": [
    "import json\n",
    "with open(\"./dataset/Model_corrected_words.txt\", 'w',encoding='utf-8') as file:\n",
    "    # Write the data to the file\n",
    "    json.dump(ans, file,ensure_ascii=False)"
   ]
  },
  {
   "cell_type": "markdown",
   "metadata": {},
   "source": [
    "### Performance Evaluation"
   ]
  },
  {
   "cell_type": "markdown",
   "metadata": {},
   "source": [
    "Retrieving Models outputs."
   ]
  },
  {
   "cell_type": "code",
   "execution_count": 24,
   "metadata": {},
   "outputs": [],
   "source": [
    "import json\n",
    "with open(\"./dataset/Model_corrected_words.txt\", 'r', encoding='utf-8') as file:\n",
    "    # Load the JSON data from the file\n",
    "    data = json.load(file)\n",
    "# making all keys to lowercase.\n",
    "data = {key.lower(): value for key, value in data.items()}"
   ]
  },
  {
   "cell_type": "markdown",
   "metadata": {},
   "source": [
    "Ground Truth"
   ]
  },
  {
   "cell_type": "code",
   "execution_count": 39,
   "metadata": {},
   "outputs": [],
   "source": [
    "# Manual_corrected_words are unambiguous\n",
    "Manual_corrected_words=[\"abhimanyu\",\"abikṣita\",\"adhyātma\",\"aiśikā\",\"ajēya\",\"ajita\",\"akṣauhiṇī\",\"amavariṣa\",\"anaraṇya\",\"aṁga\",\"anuha\",\"āraṇyaka\",\"arjuna\",\"araka\",\"asurasa\",\"asvatthamana\",\"bālabaṁdhu\",\"bāyū\",\"bhāgīratha\",\"bhāradvāja\",\"bhārata\",\"bhāva\",\"bhīma\",\"bhīmasēna\",\"bhīṣma\",\"brahmā\",\"brāhmaṇa\",\"brahmarṣisa\",\"brahmaśirā\",\"cūcī\",\"dāman\",\"dambhōdbhava\",\"daśaratha\",\"dēva\",\"dēvahuyā\",\"dēvāsa\",\"dharma\",\"dhr̥ṣṭakētu\",\"dhr̥ṣṭadyumna\",\"dhr̥tarāṣṭra\",\"dhūrta\",\"draupadī\",\"ḍridha\",\"dr̥ptakētu\",\"drōṇā\",\"druma\",\"duḥśāsana\",\"duryōdhana\",\"dvaipāyana\",\"gāṁdhārī\",\"gaṁgā\",\"gavalagānā\",\"gayā\",\"ghaṭōtkaca\",\"ghōṣayātrā\",\"iṁdra\",\"janamējaya\",\"jānujaṁgha\",\"kakṣīvaṁta\",\"kakutstha\",\"kalākēyasa\",\"kāma\",\"kaṁkā\",\"karṇa\",\"kr̥pā\",\"kr̥ṣṇa\",\"kr̥tavarmā\",\"kr̥tavarmana\",\"kr̥tavīrya\",\"kr̥tabaṁdhu\",\"kuṁtī\",\"kuru\",\"kurusa\",\"madhu\",\"madrā\",\"mādrī\",\"mahābhārata\",\"mahāpurāṇa\",\"mahāratha\",\"manu\",\"māruttā\",\"matsya\",\"nāgāsa\",\"nakula\",\"nāla\",\"nara\",\"nārada\",\"nārāyaṇa\",\"nimī\",\"nirāmaya\",\"nirmardda\",\"niśādāsa\",\"ō\",\"pāṁḍū\",\"praśu\",\"pāśupata\",\"paulōmāsa\",\"pratyaṁga\",\"pr̥tha\",\"priyabhr̥tya\",\"puṇḍra\",\"puru\",\"raghu\",\"rājā\",\"rājasa\",\"rākṣasa\",\"rāma\",\"rantidēva\",\"r̥ṣi\",\"sāgara\",\"sahadēva\",\"saiṁdhava\",\"saivya\",\"sakatī\",\"sālya\",\"śaṁbhū\",\"saṁjaya\",\"saṁkr̥ti\",\"saṁtabhaya\",\"saṁtānu\",\"saryāti\",\"śaśavindu\",\"sastī\",\"sata\",\"satyavrata\",\"sautī\",\"sikhaṁdina\",\"śradhā\",\"śṛñjaya\",\"śruti\",\"subālā\",\"subhadra\",\"suhōtra\",\"sukratu\",\"sumitrā\",\"supratīka\",\"sura\",\"sūrya\",\"śvētā\",\"tapa\",\"tapasa\",\"tryaṁbaka\",\"upaniṣada\",\"uragāsa\",\"usīnārā\",\"uttara\",\"vaisravaṇa\",\"vāsudēva\",\"vēda\",\"vēdāsa\",\"vēnā\",\"vijavā\",\"vikramī\",\"vinītātma\",\n",
    "                        \"virāṭa\",\"virihōrtā\",\"viśvāmitra\",\"viśvāsarāva\",\"vr̥ddha\",\"vr̥hada\",\"vr̥padguru\",\"vr̥ṣṇi\",\"vyāsa\",\"yadu\",\"yakṣa\",\"yayāti\",\"yudhiṣṭhira\",\"yuvanasvu\",\"yuyudhanā\",\"adhyātma\",\"agni\",\"aiśikā\",\"aṁgasa\",\"arānī\",\"araṇya\",\"arjuna\",\"arjunakr̥ṣṇa\",\"arka\",\"artha\",\"asavāha\",\"āśrama\",\"āśramavāsikā\",\"āstika\",\"asura\",\"aśvamēdha\",\"ātmā\",\"balarāma\",\"bhānū\",\"bhārata\",\"bhīma\",\"bhīmasēna\",\"bhīṣma\",\"brahmā\",\"brahmarṣi\",\"caidya\",\"cakṣusa\",\"dakṣa\",\"dēva\",\"dēvalā\",\"dharma\",\"dhr̥tarāṣṭra\",\"dōsta\",\"draupadī\",\"drōṇā\",\"duḥśāsana\",\"duryōdhana\",\"dvaipāyana\",\"dvārakā\",\"gaṇasa\",\"gaṁdhāra\",\"gāṁdhārī\",\"gaṅgā\",\"harī\",\"hātha\",\"hiraṇyagarbha\",\"ikṣvāku\",\"iṁdra\",\"iṁdraprastha\",\"isānā\",\"jaya\",\"jyōti\",\"khaṁḍavā\",\"kr̥pā\",\"kr̥ṣṇa\",\"kulapati\",\"kuṁtī\",\"kuru\",\"lōmaharṣaṇa\",\"madhu\",\"mādrī\",\"mahābhārata\",\"mahādivya\",\"mahyā\",\"maṁtra\",\"manu\",\"māyā\",\"muni\",\"munisa\",\"naimiṣā\",\"nakula\",\"nara\",\"nārada\",\"nārāyaṇa\",\"nyāya\",\"ō\",\"ōma\",\"pāṁḍū\",\"paramēṣṭhī\",\"parāsara\",\"parīkṣita\",\"paratākētha\",\"pitāmaha\",\"pitr̥sa\",\"prajāpati\",\"purāṇa\",\"puruṣa\",\"rājā\",\"rājasa\",\"rājasūya\",\"rākṣasa\",\"raṁkū\",\"ratha\",\"ravi\",\"ricikā\",\"rika\",\"r̥ṣi\",\"sabhā\",\"sadhyāsa\",\"sahadēva\",\"sahasra\",\"sakunī\",\"salya\",\"sāmaṁtapaṁcaka\",\"saṁbhava\",\"saṁbhāvya\",\"saṁjaya\",\"saṁtī\",\"sarasvatī\",\"sata\",\"satyavatī\",\"saubālā\",\"saunaka\",\"sautī\",\"savitā\",\"śōmākā\",\"śuddhi\",\"śruti\",\"śrutisa\",\"sthānu\",\"strī\",\"sū\",\"subhadra\",\"suraguru\",\"svayaṁvara\",\"udyōga\",\"ugrasrāva\",\"upaniṣadsa\",\"uparicara\",\"vaśiṣṭha\",\"vāsudēva\",\"vāsasa\",\"vāyu\",\"vēda\",\"vēdāsa\",\"vibhāvasu\",\"vicitra\",\"vidura\"\n",
    "                        ,\"vijñāna\",\"virāṭa\",\"vīrya\",\"viṣṇu\",\"viśvē\",\"vivāsavāṁsa\",\"vrata\",\"vr̥ṣṇi\",\"vyāsa\",\"yādusa\",\"yajura\",\"yayāti\",\"yōga\",\"yudhiṣṭhira\",\"yuga\"]\n",
    "Manual_indian_words=[\"Abhimanyu\",\"Abikshit\",\"Adhyatma\",\"Aishika\",\"Ajeya\",\"Ajita\",\"Akshauhinis\",\"Amvarisha\",\"Anaranya\",\"Anga\",\"Anuha\",\"Aranyaka\",\"Arjuna\",\"Arka\",\"Asuras\",\"Aswatthaman\",\"Balabandhu\",\"Bayu\",\"Bhagiratha\",\"Bharadwaja\",\"Bharata\",\"Bhava\",\"Bhima\",\"Bhimasena\",\"Bhishma\",\"Brahma\",\"Brahmana\",\"Brahmarshis\",\"Brahmashira\",\"Chuchi\",\"Damana\",\"Dambhodbhava\",\"Dasaratha\",\"Deva\",\"Devahuya\",\"Devas\",\"Dharma\",\"Dhrishtaketu\",\"Dhristadyumna\",\"Dhritarashtra\",\"Dhurta\",\"Draupadi\",\"Dridhe\",\"Driptaketu\",\"Drona\",\"Druma\",\"Duhsasana\",\"Duryodhana\",\"Dwaipayana\",\"Gandhari\",\"Ganga\",\"Gavalgana\",\"Gaya\",\"Ghatotkacha\",\"Ghoshayatra\",\"Indra\",\"Janamejaya\",\"Janujangha\",\"Kakshivanta\",\"Kakutstha\",\"Kalakeyas\",\"Kama\",\"Kanka\",\"Karna\",\"Kripa\",\"Krishna\",\"Kritavarma\",\"Kritavarman\",\"Kritavirya\",\"Kritbandhu\",\"Kunti\",\"Kuru\",\"Kurus\",\"Madhu\",\"Madra\",\"Madri\",\"Mahabharata\",\"Mahapurana\",\"Maharatha\",\"Manu\",\"Marutta\",\"Matsya\",\"Nagas\",\"Nakula\",\"Nala\",\"Nara\",\"Narada\",\"Narayana\",\"Nimi\",\"Niramaya\",\"Nirmardda\",\"Nishadas\",\"O\",\"Pandu\",\"Parasu\",\"Pasupata\",\"Paulomas\",\"Pratyanga\",\"Pritha\",\"Priyabhritya\",\"Pundra\",\"Puru\",\"Raghu\",\"Raja\",\"Rajas\",\"Rakshasa\",\"Rama\",\"Rantideva\",\"Rishi\",\"Sagara\",\"Sahadeva\",\"Saindhava\",\"Saivya\",\"Sakti\",\"Salya\",\"Sambhu\",\"Sanjaya\",\"Sankriti\",\"Santabhaya\",\"Santanu\",\"Saryati\",\"Sasavindu\",\"Sasti\",\"Sata\",\"Satyavrata\",\"Sauti\",\"Sikhandin\",\"Sradha\",\"Srinjaya\",\"Sruti\",\"Subala\",\"Subhadra\",\"Suhotra\",\"Sukratu\",\"Sumitra\",\"Supratika\",\"Sura\",\"Suryya\",\"Sweta\",\"Tapa\",\"Tapas\",\"Tryambaka\",\"Upanishad\",\"Uragas\",\"Usinara\",\"Uttara\",\"Vaisravana\",\"Vasudeva\",\"Veda\",\"Vedas\",\"Vena\",\"Vijava\",\"Vikrami\",\"Vinitatma\",\n",
    "                     \"Virata\",\"Virihorta\",\"Viswamitra\",\"Viswasrawa\",\"Vridha\",\"Vrihad\",\"Vripadguru\",\"Vrishni\",\"Vyasa\",\"Yadu\",\"Yaksha\",\"Yayati\",\"Yudhishthira\",\"Yuvanaswu\",\"Yuyudhana\",\"adhyatma\",\"agni\",\"aishika\",\"angas\",\"arani\",\"aranya\",\"arjuna\",\"arjunakrishna\",\"arka\",\"artha\",\"asavaha\",\"asrama\",\"asramavasika\",\"astika\",\"asura\",\"aswamedha\",\"atma\",\"balarama\",\"bhanu\",\"bharata\",\"bhima\",\"bhimasena\",\"bhishma\",\"brahma\",\"brahmarshi\",\"chaidya\",\"chakshus\",\"daksha\",\"deva\",\"devala\",\"dharma\",\"dhritarashtra\",\"dost\",\"draupadi\",\"drona\",\"duhsasana\",\"duryodhana\",\"dwaipayana\",\"dwaraka\",\"ganas\",\"gandhara\",\"gandhari\",\"ganga\",\"hari\",\"hath\",\"hiranyagarbha\",\"ikshwaku\",\"indra\",\"indraprastha\",\"isana\",\"jaya\",\"jyoti\",\"khandava\",\"kripa\",\"krishna\",\"kulapati\",\"kunti\",\"kuru\",\"lomaharshana\",\"madhu\",\"madri\",\"mahabharata\",\"mahadivya\",\"mahya\",\"mantra\",\"manu\",\"maya\",\"muni\",\"munis\",\"naimisha\",\"nakula\",\"nara\",\"narada\",\"narayana\",\"nyaya\",\"o\",\"om\",\"pandu\",\"parameshthi\",\"parasara\",\"parikshit\",\"partaketh\",\"pitamaha\",\"pitris\",\"prajapati\",\"purana\",\"purusha\",\"raja\",\"rajas\",\"rajasuya\",\"rakshasas\",\"ranku\",\"ratha\",\"ravi\",\"richika\",\"rik\",\"rishi\",\"sabha\",\"sadhyas\",\"sahadeva\",\"sahasra\",\"sakuni\",\"salya\",\"samantapanchaka\",\"sambhava\",\"sambhavya\",\"sanjaya\",\"santi\",\"saraswati\",\"sata\",\"satyavati\",\"saubala\",\"saunaka\",\"sauti\",\"savita\",\"shomaka\",\"shudhi\",\"sruti\",\"srutis\",\"sthanu\",\"stri\",\"su\",\"subhadra\",\"suraguru\",\"swayamvara\",\"udyoga\",\"ugrasrava\",\"upanishads\",\"uparichara\",\"vasishtha\",\"vasudeva\",\"vasus\",\"vayu\",\"veda\",\"vedas\",\"vibhavasu\",\"vichitra\",\"vidura\"\n",
    "                     ,\"vijnana\",\"virata\",\"virya\",\"vishnu\",\"viswe\",\"vivaswans\",\"vrata\",\"vrishni\",\"vyasa\",\"yadus\",\"yajur\",\"yayati\",\"yoga\",\"yudhishthira\",\"yuga\"]\n",
    "ambiguios_words=[\"Bhishmas\",\"Brahmanas\",\"Brhidbala\",\"Brihatketu\",\"Chapala\",\"Devarshis\",\"Duliduha\",\"Gandharvas\",\"Gandiva\",\"Herein\",\"Ikshaku\",\"Kauravas\",\"Ketusringa\",\"Kshatriyas\",\"Madhavas\",\"Maharathas\",\"Mahatsaha\",\"Panchalas\",\"Pandavas\",\"Paraha\",\"Puranas\",\"Sansaptakas\",\"Sastras\",\"Snatakas\",\"Suta\",\"Suvala\",\"Valhika\",\"Yakshas\",\"adityas\",\"alms\",\"aswins\",\"brahmacharis\",\"brahmanas\",\"brahmarshis\",\"brihadbhanu\",\"dasa\",\"devas\",\"dwijas\",\"gandharvas\",\"ganesa\",\"guhyakas\",\"janamejaya\",\"jarasandha\",\"kalpas\",\"kama\",\"kauravas\",\"kshatriyas\",\"kurus\",\"magadha\",\"maiden\",\"mausala\",\"pakshas\",\"panchalas\",\"pandavas\",\"pasupatadharma\",\"pauloma\",\"pisachas\",\"prachetas\",\"prajapatis\",\"puranas\",\"rajarshis\",\"rishis\",\"sadasyas\",\"sakra\",\"sama\",\"saradwan\",\"shastras\",\"slokas\",\"suka\",\"vaisampayana\",\"yakshas\",\"yatis\",\"yugas\"]\n",
    "ambiguios_correct=[\"bhīṣmā\",\"brāhmaṇa\",\"br̥dabālā\",\"br̥hatkētu\",\"chapalā\",\"dēvarṣiyōṁ\",\"dulīduhā\",\"gaṁdharvōṁ\",\"gaṁḍīvā\",\"harēṁ\",\"ikṣāku\",\"kauravōṁ\",\"kētuśr̥ṁga\",\"kṣatriyōṁ\",\"mādhava\",\"mahārathōṁ\",\"mahatsahā\",\"pāṁcāla\",\"pāṁḍavōṁ\",\"parahā\",\"purāṇōṁ\",\"saṁsaptakōṁ\",\"śāstrōṁ\",\"snātaka\",\"sutā\",\"suvālā\",\"valhikā\",\"yakṣōṁ\",\"āditya\",\"ēlmsa\",\"asvinsa\",\"brahmacārī\",\"brāhmaṇa\",\"brahmarṣisa\",\"br̥hadbhānu\",\"dāsa\",\"dēvāsa\",\"dvijōṁ\",\"gaṁdharvōṁ\",\"gaṇēśa\",\"guhyakōṁ\",\"janamējaya\",\"jarāsaṁdha\",\"kalpōṁ\",\"kāma\",\"kauravōṁ\",\"kṣatriyōṁ\",\"kurusa\",\"magadha\",\"mēḍana\",\"mausalā\",\"pakṣōṁ\",\"pāṁcāla\",\"pāṁḍavōṁ\",\"paśupatadharma\",\"pālōmā\",\"pisācōṁ\",\"pracētasa\",\"prajāpati\",\"purāṇōṁ\",\"rājarṣiyōṁ\",\"r̥ṣiyōṁ\",\"sadasyāsa\",\"sakarā\",\"sāma\",\"saradavāṁ\",\"śāstrōṁ\",\"slōkōṁ\",\"sukā\",\"vaiśampāyana\",\"yakṣōṁ\",\"yatiyōṁ\",\"yugōṁ\"]\n"
   ]
  },
  {
   "cell_type": "markdown",
   "metadata": {},
   "source": [
    "Classifiers accuracy."
   ]
  },
  {
   "cell_type": "code",
   "execution_count": 25,
   "metadata": {},
   "outputs": [
    {
     "data": {
      "text/plain": [
       "330"
      ]
     },
     "execution_count": 25,
     "metadata": {},
     "output_type": "execute_result"
    }
   ],
   "source": [
    "# india words are amb + unamb manual\n",
    "india_wor=[\"Abhimanyu\",\"Abikshit\",\"Adhyatma\",\"Aishika\",\"Ajeya\",\"Ajita\",\"Akshauhinis\",\"Amvarisha\",\"Anaranya\",\"Anga\",\"Anuha\",\"Aranyaka\",\"Arjuna\",\"Arka\",\"Asuras\",\"Aswatthaman\",\"Balabandhu\",\"Bayu\",\"Bhagiratha\",\"Bharadwaja\",\"Bharata\",\"Bhava\",\"Bhima\",\"Bhimasena\",\"Bhishma\",\"Brahma\",\"Brahmana\",\"Brahmarshis\",\"Brahmashira\",\"Chuchi\",\"Damana\",\"Dambhodbhava\",\"Dasaratha\",\"Deva\",\"Devahuya\",\"Devas\",\"Dharma\",\"Dhrishtaketu\",\"Dhristadyumna\",\"Dhritarashtra\",\"Dhurta\",\"Draupadi\",\"Dridhe\",\"Driptaketu\",\"Drona\",\"Druma\",\"Duhsasana\",\"Duryodhana\",\"Dwaipayana\",\"Gandhari\",\"Ganga\",\"Gavalgana\",\"Gaya\",\"Ghatotkacha\",\"Ghoshayatra\",\"Indra\",\"Janamejaya\",\"Janujangha\",\"Kakshivanta\",\"Kakutstha\",\"Kalakeyas\",\"Kama\",\"Kanka\",\"Karna\",\"Kripa\",\"Krishna\",\"Kritavarma\",\"Kritavarman\",\"Kritavirya\",\"Kritbandhu\",\"Kunti\",\"Kuru\",\"Kurus\",\"Madhu\",\"Madra\",\"Madri\",\"Mahabharata\",\"Mahapurana\",\"Maharatha\",\"Manu\",\"Marutta\",\"Matsya\",\"Nagas\",\"Nakula\",\"Nala\",\"Nara\",\"Narada\",\"Narayana\",\"Nimi\",\"Niramaya\",\"Nirmardda\",\"Nishadas\",\"O\",\"Pandu\",\"Parasu\",\"Pasupata\",\"Paulomas\",\"Pratyanga\",\"Pritha\",\"Priyabhritya\",\"Pundra\",\"Puru\",\"Raghu\",\"Raja\",\"Rajas\",\"Rakshasa\",\"Rama\",\"Rantideva\",\"Rishi\",\"Sagara\",\"Sahadeva\",\"Saindhava\",\"Saivya\",\"Sakti\",\"Salya\",\"Sambhu\",\"Sanjaya\",\"Sankriti\",\"Santabhaya\",\"Santanu\",\"Saryati\",\"Sasavindu\",\"Sasti\",\"Sata\",\"Satyavrata\",\"Sauti\",\"Sikhandin\",\"Sradha\",\"Srinjaya\",\"Sruti\",\"Subala\",\"Subhadra\",\"Suhotra\",\"Sukratu\",\"Sumitra\",\"Supratika\",\"Sura\",\"Suryya\",\"Sweta\",\"Tapa\",\"Tapas\",\"Tryambaka\",\"Upanishad\",\"Uragas\",\"Usinara\",\"Uttara\",\"Vaisravana\",\"Vasudeva\",\"Veda\",\"Vedas\",\"Vena\",\"Vijava\",\"Vikrami\",\"Vinitatma\",\"Virata\",\"Virihorta\",\"Viswamitra\",\"Viswasrawa\",\"Vridha\",\"Vrihad\",\"Vripadguru\",\"Vrishni\",\"Vyasa\",\"Yadu\",\"Yaksha\",\"Yayati\",\"Yudhishthira\",\"Yuvanaswu\",\"Yuyudhana\",\"adhyatma\",\"agni\",\"aishika\",\"angas\",\"arani\",\"aranya\",\"arjuna\",\"arjunakrishna\",\"arka\",\"artha\",\"asavaha\",\"asrama\",\"asramavasika\",\"astika\",\"asura\",\"aswamedha\",\"atma\",\"balarama\",\"bhanu\",\"bharata\",\"bhima\",\"bhimasena\",\"bhishma\",\"brahma\",\"brahmarshi\",\"chaidya\",\"chakshus\",\"daksha\",\"deva\",\"devala\",\"dharma\",\"dhritarashtra\",\"dost\",\"draupadi\",\"drona\",\"duhsasana\",\"duryodhana\",\"dwaipayana\",\"dwaraka\",\"ganas\",\"gandhara\",\"gandhari\",\"ganga\",\"hari\",\"hath\",\"hiranyagarbha\",\"ikshwaku\",\"indra\",\"indraprastha\",\"isana\",\"jaya\",\"jyoti\",\"khandava\",\"kripa\",\"krishna\",\"kulapati\",\"kunti\",\"kuru\",\"lomaharshana\",\"madhu\",\"madri\",\"mahabharata\",\"mahadivya\",\"mahya\",\"mantra\",\"manu\",\"maya\",\"muni\",\"munis\",\"naimisha\",\"nakula\",\"nara\",\"narada\",\"narayana\",\"nyaya\",\"o\",\"om\",\"pandu\",\"parameshthi\",\"parasara\",\"parikshit\",\"partaketh\",\"pitamaha\",\"pitris\",\"prajapati\",\"purana\",\"purusha\",\"raja\",\"rajas\",\"rajasuya\",\"rakshasas\",\"ranku\",\"ratha\",\"ravi\",\"richika\",\"rik\",\"rishi\",\"sabha\",\"sadhyas\",\"sahadeva\",\"sahasra\",\"sakuni\",\"salya\",\"samantapanchaka\",\"sambhava\",\"sambhavya\",\"sanjaya\",\"santi\",\"saraswati\",\"sata\",\"satyavati\",\"saubala\",\"saunaka\",\"sauti\",\"savita\",\"shomaka\",\"shudhi\",\"sruti\",\"srutis\",\"sthanu\",\"stri\",\"su\",\"subhadra\",\"suraguru\",\"swayamvara\",\"udyoga\",\"ugrasrava\",\"upanishads\",\"uparichara\",\"vasishtha\",\"vasudeva\",\"vasus\",\"vayu\",\"veda\",\"vedas\",\"vibhavasu\",\"vichitra\",\"vidura\",\"vijnana\",\"virata\",\"virya\",\"vishnu\",\"viswe\",\"vivaswans\",\"vrata\",\"vrishni\",\"vyasa\",\"yadus\",\"yajur\",\"yayati\",\"yoga\",\"yudhishthira\",\"yuga\",\"Bhishmas\",\"Brahmanas\",\"Brhidbala\",\"Brihatketu\",\"Chapala\",\"Devarshis\",\"Duliduha\",\"Gandharvas\",\"Gandiva\",\"Herein\",\"Ikshaku\",\"Kauravas\",\"Ketusringa\",\"Kshatriyas\",\"Madhavas\",\"Maharathas\",\"Mahatsaha\",\"Panchalas\",\"Pandavas\",\"Paraha\",\"Puranas\",\"Sansaptakas\",\"Sastras\",\"Snatakas\",\"Suta\",\"Suvala\",\"Valhika\",\"Yakshas\",\"adityas\",\"alms\",\"aswins\",\"brahmacharis\",\"brahmanas\",\"brahmarshis\",\"brihadbhanu\",\"dasa\",\"devas\",\"dwijas\",\"gandharvas\",\"ganesa\",\"guhyakas\",\"janamejaya\",\"jarasandha\",\"kalpas\",\"kama\",\"kauravas\",\"kshatriyas\",\"kurus\",\"magadha\",\"maiden\",\"mausala\",\"pakshas\",\"panchalas\",\"pandavas\",\"pasupatadharma\",\"pauloma\",\"pisachas\",\"prachetas\",\"prajapatis\",\"puranas\",\"rajarshis\",\"rishis\",\"sadasyas\",\"sakra\",\"sama\",\"saradwan\",\"shastras\",\"slokas\",\"suka\",\"vaisampayana\",\"yakshas\",\"yatis\",\"yugas\"]\n",
    "ground_truth =[]\n",
    "for word in india_wor:\n",
    "    ground_truth.append(word.lower())\n",
    "ground_truth=set(ground_truth)\n",
    "len(ground_truth)\n",
    "\n",
    "# ground truth is set of unamb + amb"
   ]
  },
  {
   "cell_type": "code",
   "execution_count": 28,
   "metadata": {},
   "outputs": [
    {
     "data": {
      "text/plain": [
       "288"
      ]
     },
     "execution_count": 28,
     "metadata": {},
     "output_type": "execute_result"
    }
   ],
   "source": [
    "# Model ke words classified as hindi (both ambiguous and unambiguous)\n",
    "Indian_words=list(data.keys())\n",
    "len(Indian_words)"
   ]
  },
  {
   "cell_type": "markdown",
   "metadata": {},
   "source": [
    "The number of words that are guessed correctly as indian.(classifiers's Accuracy)"
   ]
  },
  {
   "cell_type": "code",
   "execution_count": 29,
   "metadata": {},
   "outputs": [
    {
     "name": "stdout",
     "output_type": "stream",
     "text": [
      "Accuracy: 83.03030303030303\n"
     ]
    }
   ],
   "source": [
    "def calculate_accuracy(Indian_words, ground_truth):\n",
    "    correct_matches = 0\n",
    "    total_words = len(ground_truth)\n",
    "    for word in Indian_words:\n",
    "        if word in ground_truth:\n",
    "            correct_matches += 1\n",
    "    accuracy = (correct_matches / total_words) * 100\n",
    "    return accuracy\n",
    "\n",
    "accuracy = calculate_accuracy (Indian_words,ground_truth)\n",
    "print(\"Accuracy:\", accuracy)\n"
   ]
  },
  {
   "cell_type": "markdown",
   "metadata": {},
   "source": [
    "Out of correctly classified transliterations How much were correctly transliterated"
   ]
  },
  {
   "cell_type": "code",
   "execution_count": 41,
   "metadata": {},
   "outputs": [
    {
     "name": "stdout",
     "output_type": "stream",
     "text": [
      "38\n"
     ]
    }
   ],
   "source": [
    "ambigious_words_by_model=0\n",
    "Indian_words_unamiguous_model = []\n",
    "for word in Indian_words:\n",
    "    if word  not in ambiguios_words:\n",
    "        Indian_words_unamiguous_model.append(word)\n",
    "    else:\n",
    "        ambigious_words_by_model+=1\n",
    "print(ambigious_words_by_model)"
   ]
  },
  {
   "cell_type": "code",
   "execution_count": 42,
   "metadata": {},
   "outputs": [],
   "source": [
    "def getAccuracy(data, Manual_indian_words, Manual_corrected_words):\n",
    "    total_words = len(data)-ambigious_words_by_model\n",
    "    # total_words = len(Manual_indian_words)\n",
    "    correct_transliterations = 0\n",
    "\n",
    "    for word, gt_transliteration in zip(Manual_indian_words, Manual_corrected_words):\n",
    "        # Handle case difference by converting both words to lowercase\n",
    "        word_lower = word.lower()\n",
    "        if word_lower in data:\n",
    "            # Check if the transliteration matches the ground truth\n",
    "            model_transliteration = data[word_lower]\n",
    "            if model_transliteration.lower() == gt_transliteration.lower():\n",
    "                correct_transliterations += 1\n",
    "    accuracy = (correct_transliterations / (total_words)) * 100\n",
    "    return accuracy"
   ]
  },
  {
   "cell_type": "code",
   "execution_count": 43,
   "metadata": {},
   "outputs": [
    {
     "name": "stdout",
     "output_type": "stream",
     "text": [
      "85.2\n"
     ]
    }
   ],
   "source": [
    "print(getAccuracy(data,Manual_indian_words,Manual_corrected_words))"
   ]
  }
 ],
 "metadata": {
  "kernelspec": {
   "display_name": "Python 3",
   "language": "python",
   "name": "python3"
  },
  "language_info": {
   "codemirror_mode": {
    "name": "ipython",
    "version": 3
   },
   "file_extension": ".py",
   "mimetype": "text/x-python",
   "name": "python",
   "nbconvert_exporter": "python",
   "pygments_lexer": "ipython3",
   "version": "3.12.1"
  }
 },
 "nbformat": 4,
 "nbformat_minor": 2
}
